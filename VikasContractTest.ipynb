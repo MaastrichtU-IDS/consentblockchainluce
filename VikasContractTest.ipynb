{
 "cells": [
  {
   "cell_type": "markdown",
   "metadata": {},
   "source": [
    "### Deploy and Interact with Consent based Smart Contract\n",
    "The aim of this notebook is to compile, deploy and interact with consent based smart contract"
   ]
  },
  {
   "cell_type": "markdown",
   "metadata": {},
   "source": [
    "### Compile contract from file"
   ]
  },
  {
   "cell_type": "code",
   "execution_count": 1,
   "metadata": {
    "inputHidden": false,
    "outputHidden": false
   },
   "outputs": [],
   "source": [
    "# Import libraries\n",
    "import json\n",
    "import web3\n",
    "\n",
    "from web3 import Web3\n",
    "from solcx import compile_source\n",
    "from web3.contract import ConciseContract"
   ]
  },
  {
   "cell_type": "code",
   "execution_count": 2,
   "metadata": {},
   "outputs": [],
   "source": [
    "# Read in LUCE contract code\n",
    "with open('./data/ConsentContract.sol', 'r') as file:\n",
    "    contract_source_code = file.read()"
   ]
  },
  {
   "cell_type": "code",
   "execution_count": 3,
   "metadata": {},
   "outputs": [],
   "source": [
    "# Compile & Store Compiled source code\n",
    "compiled_sol = compile_source(contract_source_code)"
   ]
  },
  {
   "cell_type": "code",
   "execution_count": 4,
   "metadata": {},
   "outputs": [],
   "source": [
    "#compiled_sol"
   ]
  },
  {
   "cell_type": "code",
   "execution_count": 5,
   "metadata": {},
   "outputs": [],
   "source": [
    "# Extract full interface as dict from compiled contract\n",
    "contract_interface = compiled_sol['<stdin>:ConsentCode']"
   ]
  },
  {
   "cell_type": "code",
   "execution_count": 6,
   "metadata": {},
   "outputs": [],
   "source": [
    "#contract_interface"
   ]
  },
  {
   "cell_type": "code",
   "execution_count": 7,
   "metadata": {},
   "outputs": [],
   "source": [
    "# Extract abi and bytecode\n",
    "abi = contract_interface['abi']\n",
    "bytecode = contract_interface['bin']"
   ]
  },
  {
   "cell_type": "markdown",
   "metadata": {},
   "source": [
    "### Deploy"
   ]
  },
  {
   "cell_type": "code",
   "execution_count": 8,
   "metadata": {},
   "outputs": [],
   "source": [
    "# Use Ganache for web3 instance\n",
    "w3 = Web3(Web3.HTTPProvider(\"HTTP://127.0.0.1:8545\"))"
   ]
  },
  {
   "cell_type": "code",
   "execution_count": 9,
   "metadata": {},
   "outputs": [],
   "source": [
    "# Use local Ganache GUI on macOS\n",
    "#w3 = Web3(Web3.HTTPProvider(\"HTTP://192.168.72.1:7545\"))"
   ]
  },
  {
   "cell_type": "code",
   "execution_count": 10,
   "metadata": {},
   "outputs": [],
   "source": [
    "# Set pre-funded ganache account #0 as sender\n",
    "w3.eth.defaultAccount = w3.eth.accounts[0]"
   ]
  },
  {
   "cell_type": "code",
   "execution_count": 11,
   "metadata": {},
   "outputs": [
    {
     "data": {
      "text/plain": [
       "'0x92D44e8579620F2Db88A12E70FE38e8CDB3541BA'"
      ]
     },
     "execution_count": 11,
     "metadata": {},
     "output_type": "execute_result"
    }
   ],
   "source": [
    "w3.eth.accounts[0]"
   ]
  },
  {
   "cell_type": "markdown",
   "metadata": {},
   "source": [
    "The default `eth.defaultAccount` address is used as the default \"from\" property for transaction dictionaries if no other explicit \"from\" property is specified."
   ]
  },
  {
   "cell_type": "code",
   "execution_count": 12,
   "metadata": {},
   "outputs": [],
   "source": [
    "# Create contract blueprint\n",
    "Contract = w3.eth.contract(abi=abi, bytecode=bytecode)"
   ]
  },
  {
   "cell_type": "code",
   "execution_count": 13,
   "metadata": {},
   "outputs": [],
   "source": [
    "# Submit the transaction that deploys the contract\n",
    "tx_hash = Contract.constructor().transact()"
   ]
  },
  {
   "cell_type": "code",
   "execution_count": 14,
   "metadata": {},
   "outputs": [
    {
     "data": {
      "text/plain": [
       "HexBytes('0x4769d671ec1eae459f286412d7292816c719a8bc04e46acfb8156ca3e6106031')"
      ]
     },
     "execution_count": 14,
     "metadata": {},
     "output_type": "execute_result"
    }
   ],
   "source": [
    "tx_hash"
   ]
  },
  {
   "cell_type": "markdown",
   "metadata": {},
   "source": [
    "### Obtain Transcation Receipt"
   ]
  },
  {
   "cell_type": "code",
   "execution_count": 15,
   "metadata": {},
   "outputs": [],
   "source": [
    "# Wait for the transaction to be mined, and get the transaction receipt\n",
    "tx_receipt = w3.eth.waitForTransactionReceipt(tx_hash)"
   ]
  },
  {
   "cell_type": "code",
   "execution_count": 16,
   "metadata": {},
   "outputs": [
    {
     "name": "stdout",
     "output_type": "stream",
     "text": [
      "The contract is deployed with block number 396 .\n"
     ]
    }
   ],
   "source": [
    "# We obtain the block number under which it is deployed \n",
    "global contract_block\n",
    "contract_block = w3.eth.blockNumber\n",
    "print(\"The contract is deployed with block number\",contract_block,\".\")"
   ]
  },
  {
   "cell_type": "code",
   "execution_count": 17,
   "metadata": {},
   "outputs": [
    {
     "name": "stdout",
     "output_type": "stream",
     "text": [
      "The contract has the address 0xaF5b622e6D0e2645D246e89A9fB2dBa4FaD1F450 .\n"
     ]
    }
   ],
   "source": [
    "# With obtain the final address of the contract \n",
    "global contract_address\n",
    "contract_address = tx_receipt.contractAddress\n",
    "print(\"The contract has the address\", contract_address,\".\")"
   ]
  },
  {
   "cell_type": "markdown",
   "metadata": {},
   "source": [
    "### Interact with contract"
   ]
  },
  {
   "cell_type": "code",
   "execution_count": 18,
   "metadata": {},
   "outputs": [],
   "source": [
    "# Create python instance of deployed contract\n",
    "Contract = w3.eth.contract(\n",
    "    address=tx_receipt.contractAddress,\n",
    "    abi=contract_interface['abi'],\n",
    ")"
   ]
  },
  {
   "cell_type": "code",
   "execution_count": 19,
   "metadata": {},
   "outputs": [],
   "source": [
    "# Extract default accounts created by ganache\n",
    "accounts = w3.eth.accounts"
   ]
  },
  {
   "cell_type": "code",
   "execution_count": 20,
   "metadata": {},
   "outputs": [
    {
     "data": {
      "text/plain": [
       "['0x92D44e8579620F2Db88A12E70FE38e8CDB3541BA',\n",
       " '0xbf7ca7e607516Cd0F1b94a6C77F45fbFD936949C',\n",
       " '0x43e196C418b4b7Ebf71ba534042cC8907bd39dc9',\n",
       " '0x2aD1e0fAC9d6D523Fb1f21aE1Bc6acA09dD60c7F',\n",
       " '0x3c93550555cDD5218bB2923008b3Fb4ea6Ee4618',\n",
       " '0xf12C911960968c187090b52998a3597b35BC2619',\n",
       " '0x172bE1ee3f659A83a9C307fafafA51c9F91954Ae',\n",
       " '0x515f90440fA63377d7451E58B3be334F9393Ad74',\n",
       " '0x27F82fD9E21a3758737Cf3BCCA9652064186107C',\n",
       " '0x6eEA265cd899aE17Cf588744E4C7Fe31e3258E85',\n",
       " '0xE17087878F32b8dAba31B9c7A2c8de6e7DE1478E',\n",
       " '0x5F180b2f4750258566513c63381F04105bAAceeD',\n",
       " '0x2Ab8E2Df1ce02ECf6d0D0a34ee1e3d7470ebB5ff',\n",
       " '0x38643b8d4A129c011F71B934f213582F19aFA04D',\n",
       " '0xce4af93d4BA5CED45f3ec13c41000a6a00D67F6F',\n",
       " '0xeA9C047468d4ee0c806F364150c7b1d709FfE2A1']"
      ]
     },
     "execution_count": 20,
     "metadata": {},
     "output_type": "execute_result"
    }
   ],
   "source": [
    "accounts"
   ]
  },
  {
   "cell_type": "markdown",
   "metadata": {},
   "source": [
    "**UploadData**  \n",
    "```solidity\n",
    "   function UploadDataPrimaryCategory(\n",
    "        address _address1,\n",
    "        bool _NoRestrictions,\n",
    "        bool _OpenToGeneralResearchAndClinicalCare,\n",
    "        bool _OpenToHMBResearch,\n",
    "        bool _OpenToPopulationAndAncestryResearch,\n",
    "        bool _OpenToDiseaseSpecific)\n",
    "```\n",
    "```solidity\n",
    "    function UploadDataSecondaryCategory(\n",
    "        address _address1, \n",
    "        bool _OpenToGeneticStudiesOnly,\n",
    "        bool _ResearchSpecificRestrictions,\n",
    "        bool _OpenToResearchUseOnly,\n",
    "        bool _NoGeneralMethodResearch)\n",
    "```\n",
    "\n",
    "```solidity\n",
    "   function UploadDataRequirements(\n",
    "        address _address1,\n",
    "        bool _GeographicSpecificRestriction,\n",
    "        bool _OpenToNonProfitUseOnly,\n",
    "        bool _PublicationRequired,\n",
    "        bool _CollaborationRequired,\n",
    "        bool _EthicsApprovalrequired,\n",
    "        bool _TimeLimitOnUse,\n",
    "        bool _CostOnUse,\n",
    "        bool _DataSecurityMeasuresRequired)\n",
    "```"
   ]
  },
  {
   "cell_type": "code",
   "execution_count": 21,
   "metadata": {},
   "outputs": [],
   "source": [
    "#Data provider consent (General research & non-profit)\n",
    "#D-001 (open)\n",
    "test_address0 = accounts[0]\n",
    "\n",
    "tx_hash = Contract.functions.UploadDataPrimaryCategory(test_address0, False, True, True, True, True).transact()\n",
    "tx_hash = Contract.functions.UploadDataRequirements(test_address0, False, True, False, False, False, False, False, False).transact()"
   ]
  },
  {
   "cell_type": "code",
   "execution_count": 22,
   "metadata": {},
   "outputs": [
    {
     "data": {
      "text/plain": [
       "HexBytes('0x8b98b32da4eeedc6fcd41d9c8d1cb538a910bdecf16ba5e8e965289b493f19c4')"
      ]
     },
     "execution_count": 22,
     "metadata": {},
     "output_type": "execute_result"
    }
   ],
   "source": [
    "tx_hash"
   ]
  },
  {
   "cell_type": "markdown",
   "metadata": {},
   "source": [
    "**giveResearchPurpose**  \n",
    "```solidity\n",
    " function giveResearchPurpose(\n",
    "        address _address2,\n",
    "        bool _UseForMethodsDevelopment,\n",
    "        bool _UseForReferenceOrControlMaterial,\n",
    "        bool _UseForPopulationsResearch,\n",
    "        bool _UseForAncestryResearch,\n",
    "        bool _UseForHMBResearch)\n",
    "```\n",
    "\n",
    "**giveHMBPurpose**  \n",
    "```solidity\n",
    " function giveHMBPurpose( \n",
    "        address _address2, \n",
    "        bool _UseForFundamentalBioResearch,\n",
    "        bool _UseForGeneticsResearch,\n",
    "        bool _UseForDrugDevelopmentResearch, \n",
    "        bool _UseForAnyDiseaseResearch,\n",
    "        bool _UseForAgeCategoriesResearch,\n",
    "        bool _UseForGenderCategoriesResearch)\n",
    "```\n",
    "\n",
    "**giveClinicalPurpose**  \n",
    "```solidity\n",
    " function giveClinicalPurpose( \n",
    "        address _address2, \n",
    "        bool _UseForDecisionSupport, \n",
    "        bool _UseForDiseaseSupport)\n",
    "```\n",
    "\n",
    "**givePerson**  \n",
    "```solidity\n",
    " function givePerson( \n",
    "        address _address2,\n",
    "        bool _UseByAcademicProfessionals,\n",
    "        bool _UseByClinicalProfessionals,\n",
    "        bool _UseByProfitMakingProfessionals, \n",
    "        bool _UseByNonProfessionals)\n",
    "```\n",
    "\n",
    "**giveGeographicSpecificRestriction**  \n",
    "```solidity\n",
    " function giveGeographicSpecificRestriction( \n",
    "        address _address2, \n",
    "        bool _UseBySpecifiedCountries)\n",
    "```\n",
    "**giveProfit**  \n",
    "```solidity\n",
    " function giveProfit( \n",
    "        address _address2, \n",
    "        bool _UseForProfitPurpose,\n",
    "        bool _UseForNonProfitPurpose)\n",
    "```\n",
    "**giveDataRequester_Terms**  \n",
    "```solidity\n",
    " function giveDataRequester_Terms( \n",
    "        address _address2, \n",
    "        bool _NoTimelineRestrictions,\n",
    "        bool _NoFormalApprovalRequired,\n",
    "        bool _NoCollaborationRequired,\n",
    "        bool _NoPublicationRequired,\n",
    "        bool _NoDataSecurityMeasures,\n",
    "        bool _NoDataDestructionRequired,\n",
    "        bool _NoLinkingOfAccessedRecords,\n",
    "        bool _NoRecontactingDataSubjects,\n",
    "        bool _NoIntellectualPropertyClaims,\n",
    "        bool _NoUseOfAccessedResources,\n",
    "        bool _NoFeesForAccess)\n",
    "```"
   ]
  },
  {
   "cell_type": "code",
   "execution_count": 23,
   "metadata": {},
   "outputs": [],
   "source": [
    "#Data Requesters Account  \n",
    "test_address13 = accounts[13]\n",
    "test_address14 = accounts[14]\n",
    "test_address15 = accounts[15]\n",
    "\n",
    "#Data Requester 1 (General Research and Profit-Making)\n",
    "\n",
    "tx_hash = Contract.functions.giveResearchPurpose(test_address13, True, True, False, False, False).transact()\n",
    "tx_hash = Contract.functions.givePerson(test_address13, True, False, True, False).transact()\n",
    "tx_hash = Contract.functions.giveProfit(test_address13, True, False).transact()\n",
    "\n",
    "#Data Requester 2 (HMB and Profit Making)\n",
    "tx_hash = Contract.functions.giveHMBPurpose(test_address14, True, True, True, False, True, True).transact()\n",
    "tx_hash = Contract.functions.givePerson(test_address14, False, True, True, False).transact()\n",
    "tx_hash = Contract.functions.giveProfit(test_address14, True, False).transact()\n",
    "\n",
    "\n",
    "#Data Requester 3 (Disease Specific and Non-Profit-Making)\n",
    "tx_hash = Contract.functions.giveHMBPurpose(test_address15, False, False, False, True, False, False).transact()\n",
    "tx_hash = Contract.functions.givePerson(test_address15, False, True, False, False).transact()\n",
    "tx_hash = Contract.functions.giveProfit(test_address15, False, True).transact()\n"
   ]
  },
  {
   "cell_type": "code",
   "execution_count": 24,
   "metadata": {},
   "outputs": [
    {
     "data": {
      "text/plain": [
       "False"
      ]
     },
     "execution_count": 24,
     "metadata": {},
     "output_type": "execute_result"
    }
   ],
   "source": [
    "Contract.functions.AccessData(test_address0, test_address13).call()"
   ]
  },
  {
   "cell_type": "code",
   "execution_count": 25,
   "metadata": {},
   "outputs": [
    {
     "data": {
      "text/plain": [
       "False"
      ]
     },
     "execution_count": 25,
     "metadata": {},
     "output_type": "execute_result"
    }
   ],
   "source": [
    "Contract.functions.AccessData(test_address0, test_address14).call()"
   ]
  },
  {
   "cell_type": "code",
   "execution_count": 26,
   "metadata": {},
   "outputs": [
    {
     "data": {
      "text/plain": [
       "True"
      ]
     },
     "execution_count": 26,
     "metadata": {},
     "output_type": "execute_result"
    }
   ],
   "source": [
    "Contract.functions.AccessData(test_address0, test_address15).call()"
   ]
  },
  {
   "cell_type": "code",
   "execution_count": 27,
   "metadata": {},
   "outputs": [],
   "source": [
    "#Data provider consent (General research & profit making)\n",
    "#D-002\n",
    "test_address1 = accounts[1]\n",
    "tx_hash = Contract.functions.UploadDataPrimaryCategory(test_address1, False, True, True, True, True).transact()"
   ]
  },
  {
   "cell_type": "code",
   "execution_count": 28,
   "metadata": {},
   "outputs": [
    {
     "data": {
      "text/plain": [
       "True"
      ]
     },
     "execution_count": 28,
     "metadata": {},
     "output_type": "execute_result"
    }
   ],
   "source": [
    "Contract.functions.AccessData(test_address1, test_address13).call()"
   ]
  },
  {
   "cell_type": "code",
   "execution_count": 29,
   "metadata": {},
   "outputs": [
    {
     "data": {
      "text/plain": [
       "True"
      ]
     },
     "execution_count": 29,
     "metadata": {},
     "output_type": "execute_result"
    }
   ],
   "source": [
    "Contract.functions.AccessData(test_address1, test_address14).call()"
   ]
  },
  {
   "cell_type": "code",
   "execution_count": 30,
   "metadata": {},
   "outputs": [
    {
     "data": {
      "text/plain": [
       "False"
      ]
     },
     "execution_count": 30,
     "metadata": {},
     "output_type": "execute_result"
    }
   ],
   "source": [
    "Contract.functions.AccessData(test_address1, test_address15).call()"
   ]
  },
  {
   "cell_type": "code",
   "execution_count": 31,
   "metadata": {},
   "outputs": [],
   "source": [
    "#Data provider consent (General research & non-profit making)\n",
    "#H-001 \n",
    "test_address2 = accounts[2]\n",
    "\n",
    "tx_hash = Contract.functions.UploadDataPrimaryCategory(test_address2, False, True, False, False, False).transact()\n",
    "tx_hash = Contract.functions.UploadDataRequirements(test_address2, False, True, False, False, False, False, False, False).transact()"
   ]
  },
  {
   "cell_type": "code",
   "execution_count": 32,
   "metadata": {},
   "outputs": [
    {
     "data": {
      "text/plain": [
       "False"
      ]
     },
     "execution_count": 32,
     "metadata": {},
     "output_type": "execute_result"
    }
   ],
   "source": [
    "Contract.functions.AccessData(test_address2, test_address13).call()"
   ]
  },
  {
   "cell_type": "code",
   "execution_count": 33,
   "metadata": {},
   "outputs": [
    {
     "data": {
      "text/plain": [
       "False"
      ]
     },
     "execution_count": 33,
     "metadata": {},
     "output_type": "execute_result"
    }
   ],
   "source": [
    "Contract.functions.AccessData(test_address2, test_address14).call()"
   ]
  },
  {
   "cell_type": "code",
   "execution_count": 34,
   "metadata": {},
   "outputs": [
    {
     "data": {
      "text/plain": [
       "False"
      ]
     },
     "execution_count": 34,
     "metadata": {},
     "output_type": "execute_result"
    }
   ],
   "source": [
    "Contract.functions.AccessData(test_address2, test_address15).call()"
   ]
  },
  {
   "cell_type": "code",
   "execution_count": 35,
   "metadata": {},
   "outputs": [],
   "source": [
    "#Data provider consent (General research & profit making)\n",
    "#H-002 \n",
    "test_address3 = accounts[3]\n",
    "\n",
    "tx_hash = Contract.functions.UploadDataPrimaryCategory(test_address3, False, True, False, False, False).transact()"
   ]
  },
  {
   "cell_type": "code",
   "execution_count": 36,
   "metadata": {},
   "outputs": [
    {
     "data": {
      "text/plain": [
       "True"
      ]
     },
     "execution_count": 36,
     "metadata": {},
     "output_type": "execute_result"
    }
   ],
   "source": [
    "Contract.functions.AccessData(test_address3, test_address13).call()"
   ]
  },
  {
   "cell_type": "code",
   "execution_count": 37,
   "metadata": {},
   "outputs": [
    {
     "data": {
      "text/plain": [
       "False"
      ]
     },
     "execution_count": 37,
     "metadata": {},
     "output_type": "execute_result"
    }
   ],
   "source": [
    "Contract.functions.AccessData(test_address3, test_address14).call()"
   ]
  },
  {
   "cell_type": "code",
   "execution_count": 38,
   "metadata": {},
   "outputs": [
    {
     "data": {
      "text/plain": [
       "False"
      ]
     },
     "execution_count": 38,
     "metadata": {},
     "output_type": "execute_result"
    }
   ],
   "source": [
    "Contract.functions.AccessData(test_address3, test_address15).call()"
   ]
  },
  {
   "cell_type": "code",
   "execution_count": 39,
   "metadata": {},
   "outputs": [],
   "source": [
    "#Data provider consent (HMB research & non-profit making)\n",
    "#D-003 \n",
    "test_address4 = accounts[4]\n",
    "\n",
    "tx_hash = Contract.functions.UploadDataPrimaryCategory(test_address4, False, False, True, False, True).transact()\n",
    "tx_hash = Contract.functions.UploadDataRequirements(test_address4, False, True, False, False, False, False, False, False).transact()"
   ]
  },
  {
   "cell_type": "code",
   "execution_count": 40,
   "metadata": {},
   "outputs": [
    {
     "data": {
      "text/plain": [
       "False"
      ]
     },
     "execution_count": 40,
     "metadata": {},
     "output_type": "execute_result"
    }
   ],
   "source": [
    "Contract.functions.AccessData(test_address4, test_address13).call()"
   ]
  },
  {
   "cell_type": "code",
   "execution_count": 41,
   "metadata": {},
   "outputs": [
    {
     "data": {
      "text/plain": [
       "False"
      ]
     },
     "execution_count": 41,
     "metadata": {},
     "output_type": "execute_result"
    }
   ],
   "source": [
    "Contract.functions.AccessData(test_address4, test_address14).call()"
   ]
  },
  {
   "cell_type": "code",
   "execution_count": 42,
   "metadata": {},
   "outputs": [
    {
     "data": {
      "text/plain": [
       "True"
      ]
     },
     "execution_count": 42,
     "metadata": {},
     "output_type": "execute_result"
    }
   ],
   "source": [
    "Contract.functions.AccessData(test_address4, test_address15).call()"
   ]
  },
  {
   "cell_type": "code",
   "execution_count": 43,
   "metadata": {},
   "outputs": [],
   "source": [
    "#Data provider consent (HMB research & profit making)\n",
    "#D-004 \n",
    "test_address5 = accounts[5]\n",
    "\n",
    "tx_hash = Contract.functions.UploadDataPrimaryCategory(test_address5, False, False, True, False, True).transact()"
   ]
  },
  {
   "cell_type": "code",
   "execution_count": 44,
   "metadata": {},
   "outputs": [
    {
     "data": {
      "text/plain": [
       "False"
      ]
     },
     "execution_count": 44,
     "metadata": {},
     "output_type": "execute_result"
    }
   ],
   "source": [
    "Contract.functions.AccessData(test_address5, test_address13).call()"
   ]
  },
  {
   "cell_type": "code",
   "execution_count": 45,
   "metadata": {},
   "outputs": [
    {
     "data": {
      "text/plain": [
       "True"
      ]
     },
     "execution_count": 45,
     "metadata": {},
     "output_type": "execute_result"
    }
   ],
   "source": [
    "Contract.functions.AccessData(test_address5, test_address14).call()"
   ]
  },
  {
   "cell_type": "code",
   "execution_count": 46,
   "metadata": {},
   "outputs": [
    {
     "data": {
      "text/plain": [
       "False"
      ]
     },
     "execution_count": 46,
     "metadata": {},
     "output_type": "execute_result"
    }
   ],
   "source": [
    "Contract.functions.AccessData(test_address5, test_address15).call()"
   ]
  },
  {
   "cell_type": "code",
   "execution_count": 47,
   "metadata": {},
   "outputs": [],
   "source": [
    "#Data provider consent (HMB research & non-profit making)\n",
    "#H-003 \n",
    "test_address6 = accounts[6]\n",
    "\n",
    "tx_hash = Contract.functions.UploadDataPrimaryCategory(test_address6, False, False, True, False, False).transact()\n",
    "tx_hash = Contract.functions.UploadDataRequirements(test_address6, False, True, False, False, False, False, False, False).transact()"
   ]
  },
  {
   "cell_type": "code",
   "execution_count": 48,
   "metadata": {},
   "outputs": [
    {
     "data": {
      "text/plain": [
       "False"
      ]
     },
     "execution_count": 48,
     "metadata": {},
     "output_type": "execute_result"
    }
   ],
   "source": [
    "Contract.functions.AccessData(test_address6, test_address13).call()"
   ]
  },
  {
   "cell_type": "code",
   "execution_count": 49,
   "metadata": {},
   "outputs": [
    {
     "data": {
      "text/plain": [
       "False"
      ]
     },
     "execution_count": 49,
     "metadata": {},
     "output_type": "execute_result"
    }
   ],
   "source": [
    "Contract.functions.AccessData(test_address6, test_address14).call()"
   ]
  },
  {
   "cell_type": "code",
   "execution_count": 50,
   "metadata": {},
   "outputs": [
    {
     "data": {
      "text/plain": [
       "False"
      ]
     },
     "execution_count": 50,
     "metadata": {},
     "output_type": "execute_result"
    }
   ],
   "source": [
    "Contract.functions.AccessData(test_address6, test_address15).call()"
   ]
  },
  {
   "cell_type": "code",
   "execution_count": 51,
   "metadata": {},
   "outputs": [],
   "source": [
    "#Data provider consent (HMB research & profit making)\n",
    "#H-004 \n",
    "test_address7 = accounts[7]\n",
    "\n",
    "tx_hash = Contract.functions.UploadDataPrimaryCategory(test_address7, False, False, True, False, False).transact()"
   ]
  },
  {
   "cell_type": "code",
   "execution_count": 52,
   "metadata": {},
   "outputs": [
    {
     "data": {
      "text/plain": [
       "False"
      ]
     },
     "execution_count": 52,
     "metadata": {},
     "output_type": "execute_result"
    }
   ],
   "source": [
    "Contract.functions.AccessData(test_address7, test_address13).call()"
   ]
  },
  {
   "cell_type": "code",
   "execution_count": 53,
   "metadata": {},
   "outputs": [
    {
     "data": {
      "text/plain": [
       "True"
      ]
     },
     "execution_count": 53,
     "metadata": {},
     "output_type": "execute_result"
    }
   ],
   "source": [
    "Contract.functions.AccessData(test_address7, test_address14).call()"
   ]
  },
  {
   "cell_type": "code",
   "execution_count": 54,
   "metadata": {},
   "outputs": [
    {
     "data": {
      "text/plain": [
       "False"
      ]
     },
     "execution_count": 54,
     "metadata": {},
     "output_type": "execute_result"
    }
   ],
   "source": [
    "Contract.functions.AccessData(test_address7, test_address15).call()"
   ]
  },
  {
   "cell_type": "code",
   "execution_count": 55,
   "metadata": {},
   "outputs": [],
   "source": [
    "#Data provider consent (Disease-specific research & non-profit making)\n",
    "#D-005 \n",
    "test_address8 = accounts[8]\n",
    "\n",
    "tx_hash = Contract.functions.UploadDataPrimaryCategory(test_address8, False, False, False, False, True).transact()\n",
    "tx_hash = Contract.functions.UploadDataRequirements(test_address8, False, True, False, False, False, False, False, False).transact()"
   ]
  },
  {
   "cell_type": "code",
   "execution_count": 56,
   "metadata": {},
   "outputs": [
    {
     "data": {
      "text/plain": [
       "False"
      ]
     },
     "execution_count": 56,
     "metadata": {},
     "output_type": "execute_result"
    }
   ],
   "source": [
    "Contract.functions.AccessData(test_address8, test_address13).call()"
   ]
  },
  {
   "cell_type": "code",
   "execution_count": 57,
   "metadata": {},
   "outputs": [
    {
     "data": {
      "text/plain": [
       "False"
      ]
     },
     "execution_count": 57,
     "metadata": {},
     "output_type": "execute_result"
    }
   ],
   "source": [
    "Contract.functions.AccessData(test_address8, test_address14).call()"
   ]
  },
  {
   "cell_type": "code",
   "execution_count": 58,
   "metadata": {},
   "outputs": [
    {
     "data": {
      "text/plain": [
       "True"
      ]
     },
     "execution_count": 58,
     "metadata": {},
     "output_type": "execute_result"
    }
   ],
   "source": [
    "Contract.functions.AccessData(test_address8, test_address15).call()"
   ]
  },
  {
   "cell_type": "code",
   "execution_count": 59,
   "metadata": {},
   "outputs": [],
   "source": [
    "#Data provider consent (Disease-specific research & profit making)\n",
    "# D-006 \n",
    "test_address9 = accounts[9]\n",
    "\n",
    "tx_hash = Contract.functions.UploadDataPrimaryCategory(test_address9, False, False, False, False, True).transact()"
   ]
  },
  {
   "cell_type": "code",
   "execution_count": 60,
   "metadata": {},
   "outputs": [
    {
     "data": {
      "text/plain": [
       "False"
      ]
     },
     "execution_count": 60,
     "metadata": {},
     "output_type": "execute_result"
    }
   ],
   "source": [
    "Contract.functions.AccessData(test_address9, test_address13).call()"
   ]
  },
  {
   "cell_type": "code",
   "execution_count": 61,
   "metadata": {},
   "outputs": [
    {
     "data": {
      "text/plain": [
       "False"
      ]
     },
     "execution_count": 61,
     "metadata": {},
     "output_type": "execute_result"
    }
   ],
   "source": [
    "Contract.functions.AccessData(test_address9, test_address14).call()"
   ]
  },
  {
   "cell_type": "code",
   "execution_count": 62,
   "metadata": {},
   "outputs": [
    {
     "data": {
      "text/plain": [
       "False"
      ]
     },
     "execution_count": 62,
     "metadata": {},
     "output_type": "execute_result"
    }
   ],
   "source": [
    "Contract.functions.AccessData(test_address9, test_address15).call()"
   ]
  },
  {
   "cell_type": "code",
   "execution_count": 63,
   "metadata": {},
   "outputs": [],
   "source": [
    "#Data provider consent (Disease-specific research & non-profit making)\n",
    "#H-005 \n",
    "test_address10 = accounts[10]\n",
    "\n",
    "tx_hash = Contract.functions.UploadDataPrimaryCategory(test_address10, False, False, False, False, False).transact()\n",
    "tx_hash = Contract.functions.UploadDataRequirements(test_address10, False, True, False, False, False, False, False, False).transact()"
   ]
  },
  {
   "cell_type": "code",
   "execution_count": 64,
   "metadata": {},
   "outputs": [
    {
     "data": {
      "text/plain": [
       "False"
      ]
     },
     "execution_count": 64,
     "metadata": {},
     "output_type": "execute_result"
    }
   ],
   "source": [
    "Contract.functions.AccessData(test_address10, test_address13).call()"
   ]
  },
  {
   "cell_type": "code",
   "execution_count": 65,
   "metadata": {},
   "outputs": [
    {
     "data": {
      "text/plain": [
       "False"
      ]
     },
     "execution_count": 65,
     "metadata": {},
     "output_type": "execute_result"
    }
   ],
   "source": [
    "Contract.functions.AccessData(test_address10, test_address14).call()"
   ]
  },
  {
   "cell_type": "code",
   "execution_count": 66,
   "metadata": {},
   "outputs": [
    {
     "data": {
      "text/plain": [
       "False"
      ]
     },
     "execution_count": 66,
     "metadata": {},
     "output_type": "execute_result"
    }
   ],
   "source": [
    "Contract.functions.AccessData(test_address10, test_address15).call()"
   ]
  },
  {
   "cell_type": "code",
   "execution_count": 67,
   "metadata": {},
   "outputs": [],
   "source": [
    "#Data provider consent (Disease-specific research & profit making)\n",
    "#H-006 \n",
    "test_address11 = accounts[11]\n",
    "\n",
    "tx_hash = Contract.functions.UploadDataPrimaryCategory(test_address11, False, False, False, False, False).transact()"
   ]
  },
  {
   "cell_type": "code",
   "execution_count": 68,
   "metadata": {},
   "outputs": [
    {
     "data": {
      "text/plain": [
       "False"
      ]
     },
     "execution_count": 68,
     "metadata": {},
     "output_type": "execute_result"
    }
   ],
   "source": [
    "Contract.functions.AccessData(test_address11, test_address13).call()"
   ]
  },
  {
   "cell_type": "code",
   "execution_count": 69,
   "metadata": {},
   "outputs": [
    {
     "data": {
      "text/plain": [
       "False"
      ]
     },
     "execution_count": 69,
     "metadata": {},
     "output_type": "execute_result"
    }
   ],
   "source": [
    "Contract.functions.AccessData(test_address11, test_address14).call()"
   ]
  },
  {
   "cell_type": "code",
   "execution_count": 70,
   "metadata": {},
   "outputs": [
    {
     "data": {
      "text/plain": [
       "False"
      ]
     },
     "execution_count": 70,
     "metadata": {},
     "output_type": "execute_result"
    }
   ],
   "source": [
    "Contract.functions.AccessData(test_address11, test_address15).call()"
   ]
  }
 ],
 "metadata": {
  "hide_input": false,
  "kernel_info": {
   "name": "python3"
  },
  "kernelspec": {
   "display_name": "luce_vm",
   "language": "python",
   "name": "luce_vm"
  },
  "language_info": {
   "codemirror_mode": {
    "name": "ipython",
    "version": 3
   },
   "file_extension": ".py",
   "mimetype": "text/x-python",
   "name": "python",
   "nbconvert_exporter": "python",
   "pygments_lexer": "ipython3",
   "version": "3.7.3"
  },
  "nteract": {
   "version": "0.14.3"
  },
  "toc": {
   "base_numbering": 1,
   "nav_menu": {},
   "number_sections": false,
   "sideBar": true,
   "skip_h1_title": false,
   "title_cell": "Table of Contents",
   "title_sidebar": "Contents",
   "toc_cell": false,
   "toc_position": {},
   "toc_section_display": true,
   "toc_window_display": true
  },
  "varInspector": {
   "cols": {
    "lenName": 16,
    "lenType": 16,
    "lenVar": 40
   },
   "kernels_config": {
    "python": {
     "delete_cmd_postfix": "",
     "delete_cmd_prefix": "del ",
     "library": "var_list.py",
     "varRefreshCmd": "print(var_dic_list())"
    },
    "r": {
     "delete_cmd_postfix": ") ",
     "delete_cmd_prefix": "rm(",
     "library": "var_list.r",
     "varRefreshCmd": "cat(var_dic_list()) "
    }
   },
   "types_to_exclude": [
    "module",
    "function",
    "builtin_function_or_method",
    "instance",
    "_Feature"
   ],
   "window_display": false
  }
 },
 "nbformat": 4,
 "nbformat_minor": 2
}
