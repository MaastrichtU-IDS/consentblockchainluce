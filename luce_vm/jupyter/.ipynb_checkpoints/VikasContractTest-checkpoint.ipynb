{
 "cells": [
  {
   "cell_type": "markdown",
   "metadata": {},
   "source": [
    "### Deploy and Interact with Consent based Smart Contract\n",
    "The aim of this notebook is to compile, deploy and interact with consent based smart contract"
   ]
  },
  {
   "cell_type": "markdown",
   "metadata": {},
   "source": [
    "### Compile contract from file"
   ]
  },
  {
   "cell_type": "code",
   "execution_count": 2213,
   "metadata": {
    "inputHidden": false,
    "outputHidden": false
   },
   "outputs": [],
   "source": [
    "# Import libraries\n",
    "import json\n",
    "import web3\n",
    "from datetime import datetime\n",
    "from web3 import Web3\n",
    "from solcx import compile_source\n",
    "from web3.contract import ConciseContract"
   ]
  },
  {
   "cell_type": "code",
   "execution_count": 2214,
   "metadata": {},
   "outputs": [],
   "source": [
    "# Read in LUCE contract code\n",
    "with open('./data/ConsentContract.sol', 'r') as file:\n",
    "    contract_source_code = file.read()"
   ]
  },
  {
   "cell_type": "code",
   "execution_count": 2215,
   "metadata": {},
   "outputs": [],
   "source": [
    "# Compile & Store Compiled source code\n",
    "compiled_sol = compile_source(contract_source_code)"
   ]
  },
  {
   "cell_type": "code",
   "execution_count": 2216,
   "metadata": {},
   "outputs": [],
   "source": [
    "#compiled_sol"
   ]
  },
  {
   "cell_type": "code",
   "execution_count": 2217,
   "metadata": {},
   "outputs": [],
   "source": [
    "# Extract full interface as dict from compiled contract\n",
    "contract_interface = compiled_sol['<stdin>:ConsentCode']"
   ]
  },
  {
   "cell_type": "code",
   "execution_count": 2218,
   "metadata": {},
   "outputs": [],
   "source": [
    "#contract_interface"
   ]
  },
  {
   "cell_type": "code",
   "execution_count": 2219,
   "metadata": {},
   "outputs": [],
   "source": [
    "# Extract abi and bytecode\n",
    "abi = contract_interface['abi']\n",
    "bytecode = contract_interface['bin']"
   ]
  },
  {
   "cell_type": "markdown",
   "metadata": {},
   "source": [
    "### Deploy"
   ]
  },
  {
   "cell_type": "code",
   "execution_count": 2220,
   "metadata": {},
   "outputs": [],
   "source": [
    "startTime = datetime.now()"
   ]
  },
  {
   "cell_type": "code",
   "execution_count": 2221,
   "metadata": {},
   "outputs": [],
   "source": [
    "# Use Ganache for web3 instance\n",
    "w3 = Web3(Web3.HTTPProvider(\"HTTP://127.0.0.1:8545\"))"
   ]
  },
  {
   "cell_type": "code",
   "execution_count": 2222,
   "metadata": {},
   "outputs": [],
   "source": [
    "# Use local Ganache GUI on macOS\n",
    "#w3 = Web3(Web3.HTTPProvider(\"HTTP://192.168.72.1:7545\"))"
   ]
  },
  {
   "cell_type": "code",
   "execution_count": 2223,
   "metadata": {},
   "outputs": [],
   "source": [
    "# Set pre-funded ganache account #0 as sender\n",
    "w3.eth.defaultAccount = w3.eth.accounts[0]"
   ]
  },
  {
   "cell_type": "code",
   "execution_count": 2224,
   "metadata": {},
   "outputs": [
    {
     "data": {
      "text/plain": [
       "'0x92D44e8579620F2Db88A12E70FE38e8CDB3541BA'"
      ]
     },
     "execution_count": 2224,
     "metadata": {},
     "output_type": "execute_result"
    }
   ],
   "source": [
    "w3.eth.accounts[0]"
   ]
  },
  {
   "cell_type": "markdown",
   "metadata": {},
   "source": [
    "The default `eth.defaultAccount` address is used as the default \"from\" property for transaction dictionaries if no other explicit \"from\" property is specified."
   ]
  },
  {
   "cell_type": "code",
   "execution_count": 2225,
   "metadata": {},
   "outputs": [],
   "source": [
    "# Create contract blueprint\n",
    "Contract = w3.eth.contract(abi=abi, bytecode=bytecode)"
   ]
  },
  {
   "cell_type": "code",
   "execution_count": 2226,
   "metadata": {},
   "outputs": [],
   "source": [
    "# Submit the transaction that deploys the contract\n",
    "tx_hash = Contract.constructor().transact()"
   ]
  },
  {
   "cell_type": "code",
   "execution_count": 2227,
   "metadata": {},
   "outputs": [
    {
     "data": {
      "text/plain": [
       "HexBytes('0x16fadf6d709339590b49d02764ac12eba00aeddbd13687b5790c6b9634a4061e')"
      ]
     },
     "execution_count": 2227,
     "metadata": {},
     "output_type": "execute_result"
    }
   ],
   "source": [
    "tx_hash"
   ]
  },
  {
   "cell_type": "markdown",
   "metadata": {},
   "source": [
    "### Obtain Transcation Receipt"
   ]
  },
  {
   "cell_type": "code",
   "execution_count": 2228,
   "metadata": {},
   "outputs": [],
   "source": [
    "# Wait for the transaction to be mined, and get the transaction receipt\n",
    "tx_receipt = w3.eth.waitForTransactionReceipt(tx_hash)"
   ]
  },
  {
   "cell_type": "code",
   "execution_count": 2229,
   "metadata": {},
   "outputs": [
    {
     "name": "stdout",
     "output_type": "stream",
     "text": [
      "The contract is deployed with block number 1799 .\n"
     ]
    }
   ],
   "source": [
    "# We obtain the block number under which it is deployed \n",
    "global contract_block\n",
    "contract_block = w3.eth.blockNumber\n",
    "print(\"The contract is deployed with block number\",contract_block,\".\")"
   ]
  },
  {
   "cell_type": "code",
   "execution_count": 2230,
   "metadata": {},
   "outputs": [
    {
     "name": "stdout",
     "output_type": "stream",
     "text": [
      "The contract has the address 0x400D1D37C2023c8967EAA04D0577E46Ae0AFa710 .\n"
     ]
    }
   ],
   "source": [
    "# With obtain the final address of the contract \n",
    "global contract_address\n",
    "contract_address = tx_receipt.contractAddress\n",
    "print(\"The contract has the address\", contract_address,\".\")"
   ]
  },
  {
   "cell_type": "markdown",
   "metadata": {},
   "source": [
    "### Interact with contract"
   ]
  },
  {
   "cell_type": "code",
   "execution_count": 2231,
   "metadata": {},
   "outputs": [],
   "source": [
    "# Create python instance of deployed contract\n",
    "Contract = w3.eth.contract(\n",
    "    address=tx_receipt.contractAddress,\n",
    "    abi=contract_interface['abi'],\n",
    ")"
   ]
  },
  {
   "cell_type": "code",
   "execution_count": 2232,
   "metadata": {},
   "outputs": [],
   "source": [
    "# Extract default accounts created by ganache\n",
    "accounts = w3.eth.accounts"
   ]
  },
  {
   "cell_type": "code",
   "execution_count": 2233,
   "metadata": {},
   "outputs": [
    {
     "data": {
      "text/plain": [
       "['0x92D44e8579620F2Db88A12E70FE38e8CDB3541BA',\n",
       " '0xbf7ca7e607516Cd0F1b94a6C77F45fbFD936949C',\n",
       " '0x43e196C418b4b7Ebf71ba534042cC8907bd39dc9',\n",
       " '0x2aD1e0fAC9d6D523Fb1f21aE1Bc6acA09dD60c7F',\n",
       " '0x3c93550555cDD5218bB2923008b3Fb4ea6Ee4618',\n",
       " '0xf12C911960968c187090b52998a3597b35BC2619',\n",
       " '0x172bE1ee3f659A83a9C307fafafA51c9F91954Ae',\n",
       " '0x515f90440fA63377d7451E58B3be334F9393Ad74',\n",
       " '0x27F82fD9E21a3758737Cf3BCCA9652064186107C',\n",
       " '0x6eEA265cd899aE17Cf588744E4C7Fe31e3258E85',\n",
       " '0xE17087878F32b8dAba31B9c7A2c8de6e7DE1478E',\n",
       " '0x5F180b2f4750258566513c63381F04105bAAceeD',\n",
       " '0x2Ab8E2Df1ce02ECf6d0D0a34ee1e3d7470ebB5ff',\n",
       " '0x38643b8d4A129c011F71B934f213582F19aFA04D',\n",
       " '0xce4af93d4BA5CED45f3ec13c41000a6a00D67F6F',\n",
       " '0xeA9C047468d4ee0c806F364150c7b1d709FfE2A1']"
      ]
     },
     "execution_count": 2233,
     "metadata": {},
     "output_type": "execute_result"
    }
   ],
   "source": [
    "accounts"
   ]
  },
  {
   "cell_type": "markdown",
   "metadata": {},
   "source": [
    "**UploadData**  \n",
    "```solidity\n",
    "   function UploadDataPrimaryCategory(\n",
    "        address _address1,\n",
    "        bool _NoRestrictions,\n",
    "        bool _OpenToGeneralResearchAndClinicalCare,\n",
    "        bool _OpenToHMBResearch,\n",
    "        bool _OpenToPopulationAndAncestryResearch,\n",
    "        bool _OpenToDiseaseSpecific)\n",
    "```\n",
    "```solidity\n",
    "    function UploadDataSecondaryCategory(\n",
    "        address _address1, \n",
    "        bool _OpenToGeneticStudiesOnly,\n",
    "        bool _ResearchSpecificRestrictions,\n",
    "        bool _OpenToResearchUseOnly,\n",
    "        bool _NoGeneralMethodResearch)\n",
    "```\n",
    "\n",
    "```solidity\n",
    "   function UploadDataRequirements(\n",
    "        address _address1,\n",
    "        bool _GeographicSpecificRestriction,\n",
    "        bool _OpenToNonProfitUseOnly,\n",
    "        bool _PublicationRequired,\n",
    "        bool _CollaborationRequired,\n",
    "        bool _EthicsApprovalrequired,\n",
    "        bool _TimeLimitOnUse,\n",
    "        bool _CostOnUse,\n",
    "        bool _DataSecurityMeasuresRequired)\n",
    "```"
   ]
  },
  {
   "cell_type": "code",
   "execution_count": 2234,
   "metadata": {},
   "outputs": [],
   "source": [
    "#print(\"Gas\", Contract.functions.UploadDataPrimaryCategory(test_address0, False, True, True, True, True).estimateGas())\n",
    "#startTime0 = datetime.now()"
   ]
  },
  {
   "cell_type": "code",
   "execution_count": 2235,
   "metadata": {},
   "outputs": [],
   "source": [
    "#for i in range(100):\n",
    "#    test_address0 = accounts[0]\n",
    "#    tx_hash = Contract.functions.UploadDataPrimaryCategory(test_address0, False, True, True, True, True).transact()\n",
    "#    tx_hash = Contract.functions.UploadDataRequirements(test_address0, False, True, False, False, False, False, False, False).transact()"
   ]
  },
  {
   "cell_type": "code",
   "execution_count": 2236,
   "metadata": {},
   "outputs": [],
   "source": [
    "#endTimeDataProvider10 = datetime.now()\n",
    "#elapsedTimeDataProvider10 = endTimeDataProvider10 - startTime0\n",
    "#print(\"elapsedTimeDataProvider10\", elapsedTimeDataProvider10)"
   ]
  },
  {
   "cell_type": "code",
   "execution_count": 2237,
   "metadata": {},
   "outputs": [],
   "source": [
    "#Data provider consent (General research & non-profit)\n",
    "#D-001 (open)\n",
    "test_address0 = accounts[0]\n",
    "\n",
    "tx_hash = Contract.functions.UploadDataPrimaryCategory(test_address0, False, True, True, True, True).transact()\n",
    "tx_hash = Contract.functions.UploadDataRequirements(test_address0, False, True, False, False, False, False, False, False).transact()"
   ]
  },
  {
   "cell_type": "code",
   "execution_count": 2238,
   "metadata": {},
   "outputs": [],
   "source": [
    "#print(w3.eth.getBlock('latest'))"
   ]
  },
  {
   "cell_type": "code",
   "execution_count": 2239,
   "metadata": {},
   "outputs": [
    {
     "name": "stdout",
     "output_type": "stream",
     "text": [
      "elapsedTimeDataProvider0 0:00:00.161889\n"
     ]
    }
   ],
   "source": [
    "#endTimeDataProvider0 = datetime.now()\n",
    "#elapsedTimeDataProvider0 = endTimeDataProvider0 - startTime0\n",
    "#print(\"elapsedTimeDataProvider0\", elapsedTimeDataProvider0)"
   ]
  },
  {
   "cell_type": "code",
   "execution_count": 2240,
   "metadata": {},
   "outputs": [],
   "source": [
    "#tx_hash"
   ]
  },
  {
   "cell_type": "markdown",
   "metadata": {},
   "source": [
    "**giveResearchPurpose**  \n",
    "```solidity\n",
    " function giveResearchPurpose(\n",
    "        address _address2,\n",
    "        bool _UseForMethodsDevelopment,\n",
    "        bool _UseForReferenceOrControlMaterial,\n",
    "        bool _UseForPopulationsResearch,\n",
    "        bool _UseForAncestryResearch,\n",
    "        bool _UseForHMBResearch)\n",
    "```\n",
    "\n",
    "**giveHMBPurpose**  \n",
    "```solidity\n",
    " function giveHMBPurpose( \n",
    "        address _address2, \n",
    "        bool _UseForFundamentalBioResearch,\n",
    "        bool _UseForGeneticsResearch,\n",
    "        bool _UseForDrugDevelopmentResearch, \n",
    "        bool _UseForAnyDiseaseResearch,\n",
    "        bool _UseForAgeCategoriesResearch,\n",
    "        bool _UseForGenderCategoriesResearch)\n",
    "```\n",
    "\n",
    "**giveClinicalPurpose**  \n",
    "```solidity\n",
    " function giveClinicalPurpose( \n",
    "        address _address2, \n",
    "        bool _UseForDecisionSupport, \n",
    "        bool _UseForDiseaseSupport)\n",
    "```\n",
    "\n",
    "**givePerson**  \n",
    "```solidity\n",
    " function givePerson( \n",
    "        address _address2,\n",
    "        bool _UseByAcademicProfessionals,\n",
    "        bool _UseByClinicalProfessionals,\n",
    "        bool _UseByProfitMakingProfessionals, \n",
    "        bool _UseByNonProfessionals)\n",
    "```\n",
    "\n",
    "**giveGeographicSpecificRestriction**  \n",
    "```solidity\n",
    " function giveGeographicSpecificRestriction( \n",
    "        address _address2, \n",
    "        bool _UseBySpecifiedCountries)\n",
    "```\n",
    "**giveProfit**  \n",
    "```solidity\n",
    " function giveProfit( \n",
    "        address _address2, \n",
    "        bool _UseForProfitPurpose,\n",
    "        bool _UseForNonProfitPurpose)\n",
    "```\n",
    "**giveDataRequester_Terms**  \n",
    "```solidity\n",
    " function giveDataRequester_Terms( \n",
    "        address _address2, \n",
    "        bool _NoTimelineRestrictions,\n",
    "        bool _NoFormalApprovalRequired,\n",
    "        bool _NoCollaborationRequired,\n",
    "        bool _NoPublicationRequired,\n",
    "        bool _NoDataSecurityMeasures,\n",
    "        bool _NoDataDestructionRequired,\n",
    "        bool _NoLinkingOfAccessedRecords,\n",
    "        bool _NoRecontactingDataSubjects,\n",
    "        bool _NoIntellectualPropertyClaims,\n",
    "        bool _NoUseOfAccessedResources,\n",
    "        bool _NoFeesForAccess)\n",
    "```"
   ]
  },
  {
   "cell_type": "code",
   "execution_count": 2241,
   "metadata": {},
   "outputs": [],
   "source": [
    "startTime13 = datetime.now()"
   ]
  },
  {
   "cell_type": "code",
   "execution_count": 2242,
   "metadata": {},
   "outputs": [],
   "source": [
    "#Data Requesters Account  \n",
    "test_address13 = accounts[13]\n",
    "\n",
    "#Data Requester 1 (General Research and Profit-Making)\n",
    "tx_hash = Contract.functions.giveResearchPurpose(test_address13, True, True, False, False, False).transact()\n",
    "tx_hash = Contract.functions.givePerson(test_address13, True, False, True, False).transact()\n",
    "tx_hash = Contract.functions.giveProfit(test_address13, True, False).transact()"
   ]
  },
  {
   "cell_type": "code",
   "execution_count": 2243,
   "metadata": {},
   "outputs": [
    {
     "name": "stdout",
     "output_type": "stream",
     "text": [
      "elapsedTimeDataRequester13 0:00:00.228147\n"
     ]
    }
   ],
   "source": [
    "endTimeDataRequester13 = datetime.now()\n",
    "elapsedTimeDataRequester13 = endTimeDataRequester13 - startTime13\n",
    "print(\"elapsedTimeDataRequester13\", elapsedTimeDataRequester13)"
   ]
  },
  {
   "cell_type": "code",
   "execution_count": 2244,
   "metadata": {},
   "outputs": [
    {
     "data": {
      "text/plain": [
       "False"
      ]
     },
     "execution_count": 2244,
     "metadata": {},
     "output_type": "execute_result"
    }
   ],
   "source": [
    "Contract.functions.AccessData(test_address0, test_address13).call()"
   ]
  },
  {
   "cell_type": "code",
   "execution_count": 2245,
   "metadata": {},
   "outputs": [
    {
     "name": "stdout",
     "output_type": "stream",
     "text": [
      "elapsedTimeDataRequesterAccessData13 0:00:00.261878\n"
     ]
    }
   ],
   "source": [
    "#endTimeDataRequesterAccessData13 = datetime.now()\n",
    "#elapsedTimeDataRequesterAccessData13 = endTimeDataRequesterAccessData13 - startTime13\n",
    "#print(\"elapsedTimeDataRequesterAccessData13\", elapsedTimeDataRequesterAccessData13)"
   ]
  },
  {
   "cell_type": "code",
   "execution_count": 2246,
   "metadata": {},
   "outputs": [],
   "source": [
    "startTime14 = datetime.now()"
   ]
  },
  {
   "cell_type": "code",
   "execution_count": 2247,
   "metadata": {},
   "outputs": [],
   "source": [
    "#Data Requesters Account\n",
    "test_address14 = accounts[14]\n",
    "#Data Requester 2 (HMB and Profit Making)\n",
    "tx_hash = Contract.functions.giveHMBPurpose(test_address14, True, True, True, False, True, True).transact()\n",
    "tx_hash = Contract.functions.givePerson(test_address14, False, True, True, False).transact()\n",
    "tx_hash = Contract.functions.giveProfit(test_address14, True, False).transact()"
   ]
  },
  {
   "cell_type": "code",
   "execution_count": 2248,
   "metadata": {},
   "outputs": [
    {
     "name": "stdout",
     "output_type": "stream",
     "text": [
      "elapsedTimeDataRequester14 0:00:00.223376\n"
     ]
    }
   ],
   "source": [
    "endTimeDataRequester14 = datetime.now()\n",
    "elapsedTimeDataRequester14 = endTimeDataRequester14 - startTime14\n",
    "print(\"elapsedTimeDataRequester14\", elapsedTimeDataRequester14)"
   ]
  },
  {
   "cell_type": "code",
   "execution_count": 2249,
   "metadata": {},
   "outputs": [
    {
     "data": {
      "text/plain": [
       "False"
      ]
     },
     "execution_count": 2249,
     "metadata": {},
     "output_type": "execute_result"
    }
   ],
   "source": [
    "Contract.functions.AccessData(test_address0, test_address14).call()"
   ]
  },
  {
   "cell_type": "code",
   "execution_count": 2250,
   "metadata": {},
   "outputs": [
    {
     "name": "stdout",
     "output_type": "stream",
     "text": [
      "elapsedTimeDataRequesterAccessData14 0:00:00.258047\n"
     ]
    }
   ],
   "source": [
    "#endTimeDataRequesterAccessData14 = datetime.now()\n",
    "#elapsedTimeDataRequesterAccessData14 = endTimeDataRequesterAccessData14 - startTime14\n",
    "#print(\"elapsedTimeDataRequesterAccessData14\", elapsedTimeDataRequesterAccessData14)"
   ]
  },
  {
   "cell_type": "code",
   "execution_count": 2251,
   "metadata": {},
   "outputs": [],
   "source": [
    "startTime15 = datetime.now()"
   ]
  },
  {
   "cell_type": "code",
   "execution_count": 2252,
   "metadata": {},
   "outputs": [],
   "source": [
    "#Data Requesters Account  \n",
    "test_address15 = accounts[15]\n",
    "#Data Requester 3 (Disease Specific and Non-Profit-Making)\n",
    "tx_hash = Contract.functions.giveHMBPurpose(test_address15, False, False, False, True, False, False).transact()\n",
    "tx_hash = Contract.functions.givePerson(test_address15, False, True, False, False).transact()\n",
    "tx_hash = Contract.functions.giveProfit(test_address15, False, True).transact()\n"
   ]
  },
  {
   "cell_type": "code",
   "execution_count": 2253,
   "metadata": {},
   "outputs": [
    {
     "name": "stdout",
     "output_type": "stream",
     "text": [
      "elapsedTimeDataRequester15 0:00:00.171293\n"
     ]
    }
   ],
   "source": [
    "endTimeDataRequester15 = datetime.now()\n",
    "elapsedTimeDataRequester15 = endTimeDataRequester15 - startTime15\n",
    "print(\"elapsedTimeDataRequester15\", elapsedTimeDataRequester15)"
   ]
  },
  {
   "cell_type": "code",
   "execution_count": 2254,
   "metadata": {},
   "outputs": [
    {
     "data": {
      "text/plain": [
       "True"
      ]
     },
     "execution_count": 2254,
     "metadata": {},
     "output_type": "execute_result"
    }
   ],
   "source": [
    "Contract.functions.AccessData(test_address0, test_address15).call()"
   ]
  },
  {
   "cell_type": "code",
   "execution_count": 2255,
   "metadata": {},
   "outputs": [
    {
     "name": "stdout",
     "output_type": "stream",
     "text": [
      "elapsedTimeDataRequesterAccessData15 0:00:00.216492\n"
     ]
    }
   ],
   "source": [
    "endTimeDataRequesterAccessData15 = datetime.now()\n",
    "elapsedTimeDataRequesterAccessData15 = endTimeDataRequesterAccessData15 - startTime15\n",
    "print(\"elapsedTimeDataRequesterAccessData15\", elapsedTimeDataRequesterAccessData15)"
   ]
  },
  {
   "cell_type": "code",
   "execution_count": 2256,
   "metadata": {},
   "outputs": [],
   "source": [
    "startTime1 = datetime.now()"
   ]
  },
  {
   "cell_type": "code",
   "execution_count": 2257,
   "metadata": {},
   "outputs": [],
   "source": [
    "#Data provider consent (General research & profit making)\n",
    "#D-002\n",
    "test_address1 = accounts[1]\n",
    "tx_hash = Contract.functions.UploadDataPrimaryCategory(test_address1, False, True, True, True, True).transact()"
   ]
  },
  {
   "cell_type": "code",
   "execution_count": 2258,
   "metadata": {},
   "outputs": [
    {
     "name": "stdout",
     "output_type": "stream",
     "text": [
      "elapsedTimeDataProvider1 0:00:00.066075\n"
     ]
    }
   ],
   "source": [
    "endTimeDataProvider1 = datetime.now()\n",
    "elapsedTimeDataProvider1 = endTimeDataProvider1 - startTime1\n",
    "print(\"elapsedTimeDataProvider1\", elapsedTimeDataProvider1)"
   ]
  },
  {
   "cell_type": "code",
   "execution_count": 2259,
   "metadata": {},
   "outputs": [],
   "source": [
    "startTime1_13 = datetime.now()"
   ]
  },
  {
   "cell_type": "code",
   "execution_count": 2260,
   "metadata": {},
   "outputs": [
    {
     "data": {
      "text/plain": [
       "True"
      ]
     },
     "execution_count": 2260,
     "metadata": {},
     "output_type": "execute_result"
    }
   ],
   "source": [
    "Contract.functions.AccessData(test_address1, test_address13).call()"
   ]
  },
  {
   "cell_type": "code",
   "execution_count": 2261,
   "metadata": {},
   "outputs": [
    {
     "name": "stdout",
     "output_type": "stream",
     "text": [
      "elapsedTimeDataRequesterAccessData1_13 0:00:00.040884\n"
     ]
    }
   ],
   "source": [
    "endTimeDataRequesterAccessData1_13 = datetime.now()\n",
    "elapsedTimeDataRequesterAccessData1_13 = endTimeDataRequesterAccessData1_13 - startTime1_13\n",
    "print(\"elapsedTimeDataRequesterAccessData1_13\", elapsedTimeDataRequesterAccessData1_13)"
   ]
  },
  {
   "cell_type": "code",
   "execution_count": 2262,
   "metadata": {},
   "outputs": [],
   "source": [
    "startTime1_14 = datetime.now()"
   ]
  },
  {
   "cell_type": "code",
   "execution_count": 2263,
   "metadata": {},
   "outputs": [
    {
     "data": {
      "text/plain": [
       "True"
      ]
     },
     "execution_count": 2263,
     "metadata": {},
     "output_type": "execute_result"
    }
   ],
   "source": [
    "Contract.functions.AccessData(test_address1, test_address14).call()"
   ]
  },
  {
   "cell_type": "code",
   "execution_count": 2264,
   "metadata": {},
   "outputs": [
    {
     "name": "stdout",
     "output_type": "stream",
     "text": [
      "elapsedTimeDataRequesterAccessData1_14 0:00:00.044479\n"
     ]
    }
   ],
   "source": [
    "endTimeDataRequesterAccessData1_14 = datetime.now()\n",
    "elapsedTimeDataRequesterAccessData1_14 = endTimeDataRequesterAccessData1_14 - startTime1_14\n",
    "print(\"elapsedTimeDataRequesterAccessData1_14\", elapsedTimeDataRequesterAccessData1_14)"
   ]
  },
  {
   "cell_type": "code",
   "execution_count": 2265,
   "metadata": {},
   "outputs": [],
   "source": [
    "startTime1_15 = datetime.now()"
   ]
  },
  {
   "cell_type": "code",
   "execution_count": 2266,
   "metadata": {},
   "outputs": [
    {
     "data": {
      "text/plain": [
       "True"
      ]
     },
     "execution_count": 2266,
     "metadata": {},
     "output_type": "execute_result"
    }
   ],
   "source": [
    "Contract.functions.AccessData(test_address1, test_address15).call()"
   ]
  },
  {
   "cell_type": "code",
   "execution_count": 2267,
   "metadata": {},
   "outputs": [
    {
     "name": "stdout",
     "output_type": "stream",
     "text": [
      "elapsedTimeDataRequesterAccessData1_15 0:00:00.039427\n"
     ]
    }
   ],
   "source": [
    "endTimeDataRequesterAccessData1_15 = datetime.now()\n",
    "elapsedTimeDataRequesterAccessData1_15 = endTimeDataRequesterAccessData1_15 - startTime1_15\n",
    "print(\"elapsedTimeDataRequesterAccessData1_15\", elapsedTimeDataRequesterAccessData1_15)"
   ]
  },
  {
   "cell_type": "code",
   "execution_count": 2268,
   "metadata": {},
   "outputs": [],
   "source": [
    "#startTime2 = datetime.now()"
   ]
  },
  {
   "cell_type": "code",
   "execution_count": 2269,
   "metadata": {},
   "outputs": [],
   "source": [
    "#Data provider consent (General research & non-profit making)\n",
    "#H-001 \n",
    "test_address2 = accounts[2]\n",
    "\n",
    "tx_hash = Contract.functions.UploadDataPrimaryCategory(test_address2, False, True, False, False, False).transact()\n",
    "tx_hash = Contract.functions.UploadDataRequirements(test_address2, False, True, False, False, False, False, False, False).transact()"
   ]
  },
  {
   "cell_type": "code",
   "execution_count": 2270,
   "metadata": {},
   "outputs": [
    {
     "name": "stdout",
     "output_type": "stream",
     "text": [
      "elapsedTimeDataProvider2 0:00:00.143992\n"
     ]
    }
   ],
   "source": [
    "#endTimeDataProvider2 = datetime.now()\n",
    "#elapsedTimeDataProvider2 = endTimeDataProvider2 - startTime2\n",
    "#print(\"elapsedTimeDataProvider2\", elapsedTimeDataProvider2)"
   ]
  },
  {
   "cell_type": "code",
   "execution_count": 2271,
   "metadata": {},
   "outputs": [],
   "source": [
    "#startTime2_13 = datetime.now()"
   ]
  },
  {
   "cell_type": "code",
   "execution_count": 2272,
   "metadata": {},
   "outputs": [
    {
     "data": {
      "text/plain": [
       "False"
      ]
     },
     "execution_count": 2272,
     "metadata": {},
     "output_type": "execute_result"
    }
   ],
   "source": [
    "Contract.functions.AccessData(test_address2, test_address13).call()"
   ]
  },
  {
   "cell_type": "code",
   "execution_count": 2273,
   "metadata": {},
   "outputs": [
    {
     "name": "stdout",
     "output_type": "stream",
     "text": [
      "elapsedTimeDataRequesterAccessData2_13 0:00:00.032383\n"
     ]
    }
   ],
   "source": [
    "#endTimeDataRequesterAccessData2_13 = datetime.now()\n",
    "#elapsedTimeDataRequesterAccessData2_13 = endTimeDataRequesterAccessData2_13 - startTime2_13\n",
    "#print(\"elapsedTimeDataRequesterAccessData2_13\", elapsedTimeDataRequesterAccessData2_13)"
   ]
  },
  {
   "cell_type": "code",
   "execution_count": 2274,
   "metadata": {},
   "outputs": [],
   "source": [
    "#startTime2_14 = datetime.now()"
   ]
  },
  {
   "cell_type": "code",
   "execution_count": 2275,
   "metadata": {},
   "outputs": [
    {
     "data": {
      "text/plain": [
       "False"
      ]
     },
     "execution_count": 2275,
     "metadata": {},
     "output_type": "execute_result"
    }
   ],
   "source": [
    "Contract.functions.AccessData(test_address2, test_address14).call()"
   ]
  },
  {
   "cell_type": "code",
   "execution_count": 2276,
   "metadata": {},
   "outputs": [
    {
     "name": "stdout",
     "output_type": "stream",
     "text": [
      "elapsedTimeDataRequesterAccessData2_14 0:00:00.027950\n"
     ]
    }
   ],
   "source": [
    "#endTimeDataRequesterAccessData2_14 = datetime.now()\n",
    "#elapsedTimeDataRequesterAccessData2_14 = endTimeDataRequesterAccessData2_14 - startTime2_14\n",
    "#print(\"elapsedTimeDataRequesterAccessData2_14\", elapsedTimeDataRequesterAccessData2_14)"
   ]
  },
  {
   "cell_type": "code",
   "execution_count": 2277,
   "metadata": {},
   "outputs": [],
   "source": [
    "#startTime2_15 = datetime.now()"
   ]
  },
  {
   "cell_type": "code",
   "execution_count": 2278,
   "metadata": {},
   "outputs": [
    {
     "data": {
      "text/plain": [
       "False"
      ]
     },
     "execution_count": 2278,
     "metadata": {},
     "output_type": "execute_result"
    }
   ],
   "source": [
    "Contract.functions.AccessData(test_address2, test_address15).call()"
   ]
  },
  {
   "cell_type": "code",
   "execution_count": 2279,
   "metadata": {},
   "outputs": [
    {
     "name": "stdout",
     "output_type": "stream",
     "text": [
      "elapsedTimeDataRequesterAccessData2_15 0:00:00.029219\n"
     ]
    }
   ],
   "source": [
    "#endTimeDataRequesterAccessData2_15 = datetime.now()\n",
    "#elapsedTimeDataRequesterAccessData2_15 = endTimeDataRequesterAccessData2_15 - startTime2_15\n",
    "#print(\"elapsedTimeDataRequesterAccessData2_15\", elapsedTimeDataRequesterAccessData2_15)#"
   ]
  },
  {
   "cell_type": "code",
   "execution_count": 2280,
   "metadata": {},
   "outputs": [],
   "source": [
    "#startTime3 = datetime.now()"
   ]
  },
  {
   "cell_type": "code",
   "execution_count": 2281,
   "metadata": {},
   "outputs": [],
   "source": [
    "#Data provider consent (General research & profit making)\n",
    "#H-002 \n",
    "test_address3 = accounts[3]\n",
    "\n",
    "tx_hash = Contract.functions.UploadDataPrimaryCategory(test_address3, False, True, False, False, False).transact()"
   ]
  },
  {
   "cell_type": "code",
   "execution_count": 2282,
   "metadata": {},
   "outputs": [
    {
     "name": "stdout",
     "output_type": "stream",
     "text": [
      "elapsedTimeDataProvider3 0:00:00.084269\n"
     ]
    }
   ],
   "source": [
    "#endTimeDataProvider3 = datetime.now()\n",
    "#elapsedTimeDataProvider3 = endTimeDataProvider3 - startTime3\n",
    "#print(\"elapsedTimeDataProvider3\", elapsedTimeDataProvider3)"
   ]
  },
  {
   "cell_type": "code",
   "execution_count": 2283,
   "metadata": {},
   "outputs": [],
   "source": [
    "#startTime3_13 = datetime.now()"
   ]
  },
  {
   "cell_type": "code",
   "execution_count": 2284,
   "metadata": {},
   "outputs": [
    {
     "data": {
      "text/plain": [
       "True"
      ]
     },
     "execution_count": 2284,
     "metadata": {},
     "output_type": "execute_result"
    }
   ],
   "source": [
    "Contract.functions.AccessData(test_address3, test_address13).call()"
   ]
  },
  {
   "cell_type": "code",
   "execution_count": 2285,
   "metadata": {},
   "outputs": [
    {
     "name": "stdout",
     "output_type": "stream",
     "text": [
      "elapsedTimeDataRequesterAccessData3_13 0:00:00.035703\n"
     ]
    }
   ],
   "source": [
    "#endTimeDataRequesterAccessData3_13 = datetime.now()\n",
    "#elapsedTimeDataRequesterAccessData3_13 = endTimeDataRequesterAccessData3_13 - startTime3_13\n",
    "#print(\"elapsedTimeDataRequesterAccessData3_13\", elapsedTimeDataRequesterAccessData3_13)"
   ]
  },
  {
   "cell_type": "code",
   "execution_count": 2286,
   "metadata": {},
   "outputs": [],
   "source": [
    "#startTime3_14 = datetime.now()"
   ]
  },
  {
   "cell_type": "code",
   "execution_count": 2287,
   "metadata": {},
   "outputs": [
    {
     "data": {
      "text/plain": [
       "False"
      ]
     },
     "execution_count": 2287,
     "metadata": {},
     "output_type": "execute_result"
    }
   ],
   "source": [
    "Contract.functions.AccessData(test_address3, test_address14).call()"
   ]
  },
  {
   "cell_type": "code",
   "execution_count": 2288,
   "metadata": {},
   "outputs": [
    {
     "name": "stdout",
     "output_type": "stream",
     "text": [
      "elapsedTimeDataRequesterAccessData3_14 0:00:00.031302\n"
     ]
    }
   ],
   "source": [
    "#endTimeDataRequesterAccessData3_14 = datetime.now()\n",
    "#elapsedTimeDataRequesterAccessData3_14 = endTimeDataRequesterAccessData3_14 - startTime3_14\n",
    "#print(\"elapsedTimeDataRequesterAccessData3_14\", elapsedTimeDataRequesterAccessData3_14)"
   ]
  },
  {
   "cell_type": "code",
   "execution_count": 2289,
   "metadata": {},
   "outputs": [],
   "source": [
    "#startTime3_15 = datetime.now()"
   ]
  },
  {
   "cell_type": "code",
   "execution_count": 2290,
   "metadata": {},
   "outputs": [
    {
     "data": {
      "text/plain": [
       "False"
      ]
     },
     "execution_count": 2290,
     "metadata": {},
     "output_type": "execute_result"
    }
   ],
   "source": [
    "Contract.functions.AccessData(test_address3, test_address15).call()"
   ]
  },
  {
   "cell_type": "code",
   "execution_count": 2291,
   "metadata": {},
   "outputs": [
    {
     "name": "stdout",
     "output_type": "stream",
     "text": [
      "elapsedTimeDataRequesterAccessData3_15 0:00:00.026498\n"
     ]
    }
   ],
   "source": [
    "#endTimeDataRequesterAccessData3_15 = datetime.now()\n",
    "#elapsedTimeDataRequesterAccessData3_15 = endTimeDataRequesterAccessData3_15 - startTime3_15\n",
    "#print(\"elapsedTimeDataRequesterAccessData3_15\", elapsedTimeDataRequesterAccessData3_15)"
   ]
  },
  {
   "cell_type": "code",
   "execution_count": 2292,
   "metadata": {},
   "outputs": [],
   "source": [
    "#startTime4 = datetime.now()"
   ]
  },
  {
   "cell_type": "code",
   "execution_count": 2293,
   "metadata": {},
   "outputs": [],
   "source": [
    "#Data provider consent (HMB research & non-profit making)\n",
    "#D-003 \n",
    "test_address4 = accounts[4]\n",
    "\n",
    "tx_hash = Contract.functions.UploadDataPrimaryCategory(test_address4, False, False, True, False, True).transact()\n",
    "tx_hash = Contract.functions.UploadDataRequirements(test_address4, False, True, False, False, False, False, False, False).transact()"
   ]
  },
  {
   "cell_type": "code",
   "execution_count": 2294,
   "metadata": {},
   "outputs": [
    {
     "name": "stdout",
     "output_type": "stream",
     "text": [
      "elapsedTimeDataProvider4 0:00:00.158059\n"
     ]
    }
   ],
   "source": [
    "#endTimeDataProvider4 = datetime.now()\n",
    "#elapsedTimeDataProvider4 = endTimeDataProvider4 - startTime4\n",
    "#print(\"elapsedTimeDataProvider4\", elapsedTimeDataProvider4)"
   ]
  },
  {
   "cell_type": "code",
   "execution_count": 2295,
   "metadata": {},
   "outputs": [],
   "source": [
    "#startTime4_13 = datetime.now()"
   ]
  },
  {
   "cell_type": "code",
   "execution_count": 2296,
   "metadata": {},
   "outputs": [
    {
     "data": {
      "text/plain": [
       "False"
      ]
     },
     "execution_count": 2296,
     "metadata": {},
     "output_type": "execute_result"
    }
   ],
   "source": [
    "Contract.functions.AccessData(test_address4, test_address13).call()"
   ]
  },
  {
   "cell_type": "code",
   "execution_count": 2297,
   "metadata": {},
   "outputs": [
    {
     "name": "stdout",
     "output_type": "stream",
     "text": [
      "elapsedTimeDataRequesterAccessData4_13 0:00:00.024818\n"
     ]
    }
   ],
   "source": [
    "#endTimeDataRequesterAccessData4_13 = datetime.now()\n",
    "#elapsedTimeDataRequesterAccessData4_13 = endTimeDataRequesterAccessData4_13 - startTime4_13\n",
    "#print(\"elapsedTimeDataRequesterAccessData4_13\", elapsedTimeDataRequesterAccessData4_13)"
   ]
  },
  {
   "cell_type": "code",
   "execution_count": 2298,
   "metadata": {},
   "outputs": [],
   "source": [
    "#startTime4_14 = datetime.now()"
   ]
  },
  {
   "cell_type": "code",
   "execution_count": 2299,
   "metadata": {},
   "outputs": [
    {
     "data": {
      "text/plain": [
       "False"
      ]
     },
     "execution_count": 2299,
     "metadata": {},
     "output_type": "execute_result"
    }
   ],
   "source": [
    "Contract.functions.AccessData(test_address4, test_address14).call()"
   ]
  },
  {
   "cell_type": "code",
   "execution_count": 2300,
   "metadata": {},
   "outputs": [
    {
     "name": "stdout",
     "output_type": "stream",
     "text": [
      "elapsedTimeDataRequesterAccessData4_14 0:00:00.029860\n"
     ]
    }
   ],
   "source": [
    "#endTimeDataRequesterAccessData4_14 = datetime.now()\n",
    "#elapsedTimeDataRequesterAccessData4_14 = endTimeDataRequesterAccessData4_14 - startTime4_14\n",
    "#print(\"elapsedTimeDataRequesterAccessData4_14\", elapsedTimeDataRequesterAccessData4_14)"
   ]
  },
  {
   "cell_type": "code",
   "execution_count": 2301,
   "metadata": {},
   "outputs": [],
   "source": [
    "#startTime4_15 = datetime.now()"
   ]
  },
  {
   "cell_type": "code",
   "execution_count": 2302,
   "metadata": {},
   "outputs": [
    {
     "data": {
      "text/plain": [
       "True"
      ]
     },
     "execution_count": 2302,
     "metadata": {},
     "output_type": "execute_result"
    }
   ],
   "source": [
    "Contract.functions.AccessData(test_address4, test_address15).call()"
   ]
  },
  {
   "cell_type": "code",
   "execution_count": 2303,
   "metadata": {},
   "outputs": [
    {
     "name": "stdout",
     "output_type": "stream",
     "text": [
      "elapsedTimeDataRequesterAccessData4_15 0:00:00.048298\n"
     ]
    }
   ],
   "source": [
    "#endTimeDataRequesterAccessData4_15 = datetime.now()\n",
    "#elapsedTimeDataRequesterAccessData4_15 = endTimeDataRequesterAccessData4_15 - startTime4_15\n",
    "#print(\"elapsedTimeDataRequesterAccessData4_15\", elapsedTimeDataRequesterAccessData4_15)"
   ]
  },
  {
   "cell_type": "code",
   "execution_count": null,
   "metadata": {},
   "outputs": [],
   "source": [
    "startTime5 = datetime.now()"
   ]
  },
  {
   "cell_type": "code",
   "execution_count": 2304,
   "metadata": {},
   "outputs": [],
   "source": [
    "#Data provider consent (HMB research & profit making)\n",
    "#D-004 \n",
    "test_address5 = accounts[5]\n",
    "\n",
    "tx_hash = Contract.functions.UploadDataPrimaryCategory(test_address5, False, False, True, False, True).transact()"
   ]
  },
  {
   "cell_type": "code",
   "execution_count": null,
   "metadata": {},
   "outputs": [],
   "source": [
    "endTimeDataProvider5 = datetime.now()\n",
    "elapsedTimeDataProvider5 = endTimeDataProvider5 - startTime5\n",
    "print(\"elapsedTimeDataProvider5\", elapsedTimeDataProvider5)"
   ]
  },
  {
   "cell_type": "code",
   "execution_count": null,
   "metadata": {},
   "outputs": [],
   "source": [
    "startTime5_13 = datetime.now()"
   ]
  },
  {
   "cell_type": "code",
   "execution_count": 2305,
   "metadata": {},
   "outputs": [
    {
     "data": {
      "text/plain": [
       "False"
      ]
     },
     "execution_count": 2305,
     "metadata": {},
     "output_type": "execute_result"
    }
   ],
   "source": [
    "Contract.functions.AccessData(test_address5, test_address13).call()"
   ]
  },
  {
   "cell_type": "code",
   "execution_count": null,
   "metadata": {},
   "outputs": [],
   "source": [
    "endTimeDataRequesterAccessData5_13 = datetime.now()\n",
    "elapsedTimeDataRequesterAccessData5_13 = endTimeDataRequesterAccessData5_13 - startTime5_13\n",
    "print(\"elapsedTimeDataRequesterAccessData5_13\", elapsedTimeDataRequesterAccessData5_13)"
   ]
  },
  {
   "cell_type": "code",
   "execution_count": null,
   "metadata": {},
   "outputs": [],
   "source": [
    "startTime5_14 = datetime.now()"
   ]
  },
  {
   "cell_type": "code",
   "execution_count": 2306,
   "metadata": {},
   "outputs": [
    {
     "data": {
      "text/plain": [
       "True"
      ]
     },
     "execution_count": 2306,
     "metadata": {},
     "output_type": "execute_result"
    }
   ],
   "source": [
    "Contract.functions.AccessData(test_address5, test_address14).call()"
   ]
  },
  {
   "cell_type": "code",
   "execution_count": null,
   "metadata": {},
   "outputs": [],
   "source": [
    "endTimeDataRequesterAccessData5_14 = datetime.now()\n",
    "elapsedTimeDataRequesterAccessData5_14 = endTimeDataRequesterAccessData5_14 - startTime5_14\n",
    "print(\"elapsedTimeDataRequesterAccessData5_14\", elapsedTimeDataRequesterAccessData5_14)"
   ]
  },
  {
   "cell_type": "code",
   "execution_count": null,
   "metadata": {},
   "outputs": [],
   "source": [
    "startTime5_15 = datetime.now()"
   ]
  },
  {
   "cell_type": "code",
   "execution_count": 2307,
   "metadata": {},
   "outputs": [
    {
     "data": {
      "text/plain": [
       "True"
      ]
     },
     "execution_count": 2307,
     "metadata": {},
     "output_type": "execute_result"
    }
   ],
   "source": [
    "Contract.functions.AccessData(test_address5, test_address15).call()"
   ]
  },
  {
   "cell_type": "code",
   "execution_count": null,
   "metadata": {},
   "outputs": [],
   "source": [
    "endTimeDataRequesterAccessData5_15 = datetime.now()\n",
    "elapsedTimeDataRequesterAccessData5_15 = endTimeDataRequesterAccessData5_15 - startTime5_15\n",
    "print(\"elapsedTimeDataRequesterAccessData5_15\", elapsedTimeDataRequesterAccessData5_15)"
   ]
  },
  {
   "cell_type": "code",
   "execution_count": 2308,
   "metadata": {},
   "outputs": [],
   "source": [
    "#Data provider consent (HMB research & non-profit making)\n",
    "#H-003 \n",
    "test_address6 = accounts[6]\n",
    "\n",
    "tx_hash = Contract.functions.UploadDataPrimaryCategory(test_address6, False, False, True, False, False).transact()\n",
    "tx_hash = Contract.functions.UploadDataRequirements(test_address6, False, True, False, False, False, False, False, False).transact()"
   ]
  },
  {
   "cell_type": "code",
   "execution_count": 2309,
   "metadata": {},
   "outputs": [
    {
     "data": {
      "text/plain": [
       "False"
      ]
     },
     "execution_count": 2309,
     "metadata": {},
     "output_type": "execute_result"
    }
   ],
   "source": [
    "Contract.functions.AccessData(test_address6, test_address13).call()"
   ]
  },
  {
   "cell_type": "code",
   "execution_count": 2310,
   "metadata": {},
   "outputs": [
    {
     "data": {
      "text/plain": [
       "False"
      ]
     },
     "execution_count": 2310,
     "metadata": {},
     "output_type": "execute_result"
    }
   ],
   "source": [
    "Contract.functions.AccessData(test_address6, test_address14).call()"
   ]
  },
  {
   "cell_type": "code",
   "execution_count": 2311,
   "metadata": {},
   "outputs": [
    {
     "data": {
      "text/plain": [
       "False"
      ]
     },
     "execution_count": 2311,
     "metadata": {},
     "output_type": "execute_result"
    }
   ],
   "source": [
    "Contract.functions.AccessData(test_address6, test_address15).call()"
   ]
  },
  {
   "cell_type": "code",
   "execution_count": 2312,
   "metadata": {},
   "outputs": [],
   "source": [
    "#Data provider consent (HMB research & profit making)\n",
    "#H-004 \n",
    "test_address7 = accounts[7]\n",
    "\n",
    "tx_hash = Contract.functions.UploadDataPrimaryCategory(test_address7, False, False, True, False, False).transact()"
   ]
  },
  {
   "cell_type": "code",
   "execution_count": 2313,
   "metadata": {},
   "outputs": [
    {
     "data": {
      "text/plain": [
       "False"
      ]
     },
     "execution_count": 2313,
     "metadata": {},
     "output_type": "execute_result"
    }
   ],
   "source": [
    "Contract.functions.AccessData(test_address7, test_address13).call()"
   ]
  },
  {
   "cell_type": "code",
   "execution_count": 2314,
   "metadata": {},
   "outputs": [
    {
     "data": {
      "text/plain": [
       "True"
      ]
     },
     "execution_count": 2314,
     "metadata": {},
     "output_type": "execute_result"
    }
   ],
   "source": [
    "Contract.functions.AccessData(test_address7, test_address14).call()"
   ]
  },
  {
   "cell_type": "code",
   "execution_count": 2315,
   "metadata": {},
   "outputs": [
    {
     "data": {
      "text/plain": [
       "False"
      ]
     },
     "execution_count": 2315,
     "metadata": {},
     "output_type": "execute_result"
    }
   ],
   "source": [
    "Contract.functions.AccessData(test_address7, test_address15).call()"
   ]
  },
  {
   "cell_type": "code",
   "execution_count": null,
   "metadata": {},
   "outputs": [],
   "source": [
    "startTime8 = datetime.now()"
   ]
  },
  {
   "cell_type": "code",
   "execution_count": 2316,
   "metadata": {},
   "outputs": [],
   "source": [
    "#Data provider consent (Disease-specific research & non-profit making)\n",
    "#D-005 \n",
    "test_address8 = accounts[8]\n",
    "\n",
    "tx_hash = Contract.functions.UploadDataPrimaryCategory(test_address8, False, False, False, False, True).transact()\n",
    "tx_hash = Contract.functions.UploadDataRequirements(test_address8, False, True, False, False, False, False, False, False).transact()"
   ]
  },
  {
   "cell_type": "code",
   "execution_count": null,
   "metadata": {},
   "outputs": [],
   "source": [
    "endTimeDataProvider8 = datetime.now()\n",
    "elapsedTimeDataProvider8 = endTimeDataProvider8 - startTime8\n",
    "print(\"elapsedTimeDataProvider8\", elapsedTimeDataProvider8)"
   ]
  },
  {
   "cell_type": "code",
   "execution_count": null,
   "metadata": {},
   "outputs": [],
   "source": [
    "startTime8_13 = datetime.now()"
   ]
  },
  {
   "cell_type": "code",
   "execution_count": 2317,
   "metadata": {},
   "outputs": [
    {
     "data": {
      "text/plain": [
       "False"
      ]
     },
     "execution_count": 2317,
     "metadata": {},
     "output_type": "execute_result"
    }
   ],
   "source": [
    "Contract.functions.AccessData(test_address8, test_address13).call()"
   ]
  },
  {
   "cell_type": "code",
   "execution_count": null,
   "metadata": {},
   "outputs": [],
   "source": [
    "endTimeDataRequesterAccessData8_13 = datetime.now()\n",
    "elapsedTimeDataRequesterAccessData8_13 = endTimeDataRequesterAccessData8_13 - startTime8_13\n",
    "print(\"elapsedTimeDataRequesterAccessData8_13\", elapsedTimeDataRequesterAccessData8_13)"
   ]
  },
  {
   "cell_type": "code",
   "execution_count": null,
   "metadata": {},
   "outputs": [],
   "source": [
    "startTime8_14 = datetime.now()"
   ]
  },
  {
   "cell_type": "code",
   "execution_count": 2318,
   "metadata": {},
   "outputs": [
    {
     "data": {
      "text/plain": [
       "False"
      ]
     },
     "execution_count": 2318,
     "metadata": {},
     "output_type": "execute_result"
    }
   ],
   "source": [
    "Contract.functions.AccessData(test_address8, test_address14).call()"
   ]
  },
  {
   "cell_type": "code",
   "execution_count": null,
   "metadata": {},
   "outputs": [],
   "source": [
    "endTimeDataRequesterAccessData8_14 = datetime.now()\n",
    "elapsedTimeDataRequesterAccessData8_14 = endTimeDataRequesterAccessData8_14 - startTime8_14\n",
    "print(\"elapsedTimeDataRequesterAccessData8_14\", elapsedTimeDataRequesterAccessData8_14)"
   ]
  },
  {
   "cell_type": "code",
   "execution_count": null,
   "metadata": {},
   "outputs": [],
   "source": [
    "startTime8_15 = datetime.now()"
   ]
  },
  {
   "cell_type": "code",
   "execution_count": 2319,
   "metadata": {},
   "outputs": [
    {
     "data": {
      "text/plain": [
       "True"
      ]
     },
     "execution_count": 2319,
     "metadata": {},
     "output_type": "execute_result"
    }
   ],
   "source": [
    "Contract.functions.AccessData(test_address8, test_address15).call()"
   ]
  },
  {
   "cell_type": "code",
   "execution_count": null,
   "metadata": {},
   "outputs": [],
   "source": [
    "endTimeDataRequesterAccessData8_15 = datetime.now()\n",
    "elapsedTimeDataRequesterAccessData8_15 = endTimeDataRequesterAccessData8_15 - startTime8_15\n",
    "print(\"elapsedTimeDataRequesterAccessData8_15\", elapsedTimeDataRequesterAccessData8_15)"
   ]
  },
  {
   "cell_type": "code",
   "execution_count": 2320,
   "metadata": {},
   "outputs": [],
   "source": [
    "#Data provider consent (Disease-specific research & profit making)\n",
    "# D-006 \n",
    "test_address9 = accounts[9]\n",
    "\n",
    "tx_hash = Contract.functions.UploadDataPrimaryCategory(test_address9, False, False, False, False, True).transact()"
   ]
  },
  {
   "cell_type": "code",
   "execution_count": 2321,
   "metadata": {},
   "outputs": [
    {
     "data": {
      "text/plain": [
       "False"
      ]
     },
     "execution_count": 2321,
     "metadata": {},
     "output_type": "execute_result"
    }
   ],
   "source": [
    "Contract.functions.AccessData(test_address9, test_address13).call()"
   ]
  },
  {
   "cell_type": "code",
   "execution_count": 2322,
   "metadata": {},
   "outputs": [
    {
     "data": {
      "text/plain": [
       "False"
      ]
     },
     "execution_count": 2322,
     "metadata": {},
     "output_type": "execute_result"
    }
   ],
   "source": [
    "Contract.functions.AccessData(test_address9, test_address14).call()"
   ]
  },
  {
   "cell_type": "code",
   "execution_count": 2323,
   "metadata": {},
   "outputs": [
    {
     "data": {
      "text/plain": [
       "True"
      ]
     },
     "execution_count": 2323,
     "metadata": {},
     "output_type": "execute_result"
    }
   ],
   "source": [
    "Contract.functions.AccessData(test_address9, test_address15).call()"
   ]
  },
  {
   "cell_type": "code",
   "execution_count": 2324,
   "metadata": {},
   "outputs": [],
   "source": [
    "#Data provider consent (Disease-specific research & non-profit making)\n",
    "#H-005 \n",
    "test_address10 = accounts[10]\n",
    "\n",
    "tx_hash = Contract.functions.UploadDataPrimaryCategory(test_address10, False, False, False, False, False).transact()\n",
    "tx_hash = Contract.functions.UploadDataRequirements(test_address10, False, True, False, False, False, False, False, False).transact()"
   ]
  },
  {
   "cell_type": "code",
   "execution_count": 2325,
   "metadata": {},
   "outputs": [
    {
     "data": {
      "text/plain": [
       "False"
      ]
     },
     "execution_count": 2325,
     "metadata": {},
     "output_type": "execute_result"
    }
   ],
   "source": [
    "Contract.functions.AccessData(test_address10, test_address13).call()"
   ]
  },
  {
   "cell_type": "code",
   "execution_count": 2326,
   "metadata": {},
   "outputs": [
    {
     "data": {
      "text/plain": [
       "False"
      ]
     },
     "execution_count": 2326,
     "metadata": {},
     "output_type": "execute_result"
    }
   ],
   "source": [
    "Contract.functions.AccessData(test_address10, test_address14).call()"
   ]
  },
  {
   "cell_type": "code",
   "execution_count": 2327,
   "metadata": {},
   "outputs": [
    {
     "data": {
      "text/plain": [
       "False"
      ]
     },
     "execution_count": 2327,
     "metadata": {},
     "output_type": "execute_result"
    }
   ],
   "source": [
    "Contract.functions.AccessData(test_address10, test_address15).call()"
   ]
  },
  {
   "cell_type": "code",
   "execution_count": 2328,
   "metadata": {},
   "outputs": [],
   "source": [
    "#Data provider consent (Disease-specific research & profit making)\n",
    "#H-006 \n",
    "test_address11 = accounts[11]\n",
    "\n",
    "tx_hash = Contract.functions.UploadDataPrimaryCategory(test_address11, False, False, False, False, False).transact()"
   ]
  },
  {
   "cell_type": "code",
   "execution_count": 2329,
   "metadata": {},
   "outputs": [
    {
     "data": {
      "text/plain": [
       "False"
      ]
     },
     "execution_count": 2329,
     "metadata": {},
     "output_type": "execute_result"
    }
   ],
   "source": [
    "Contract.functions.AccessData(test_address11, test_address13).call()"
   ]
  },
  {
   "cell_type": "code",
   "execution_count": 2330,
   "metadata": {},
   "outputs": [
    {
     "data": {
      "text/plain": [
       "False"
      ]
     },
     "execution_count": 2330,
     "metadata": {},
     "output_type": "execute_result"
    }
   ],
   "source": [
    "Contract.functions.AccessData(test_address11, test_address14).call()"
   ]
  },
  {
   "cell_type": "code",
   "execution_count": 2331,
   "metadata": {},
   "outputs": [
    {
     "data": {
      "text/plain": [
       "False"
      ]
     },
     "execution_count": 2331,
     "metadata": {},
     "output_type": "execute_result"
    }
   ],
   "source": [
    "Contract.functions.AccessData(test_address11, test_address15).call()"
   ]
  },
  {
   "cell_type": "code",
   "execution_count": 2332,
   "metadata": {},
   "outputs": [
    {
     "name": "stdout",
     "output_type": "stream",
     "text": [
      "elapsedTime1 0:00:03.321258\n"
     ]
    }
   ],
   "source": [
    "endTime1 = datetime.now()\n",
    "elapsedTime1 = endTime1 - startTime\n",
    "print(\"elapsedTime1\", elapsedTime1)"
   ]
  },
  {
   "cell_type": "code",
   "execution_count": 2333,
   "metadata": {},
   "outputs": [],
   "source": [
    "#print(\"Gas\", Contract.functions.UploadDataPrimaryCategory(test_address0, False, True, True, True, True).estimateGas())print(\"Gas\", Contract.functions.UploadDataPrimaryCategory(test_address0, False, True, True, True, True).estimateGas())\n",
    "#print(\"Gas\", Contract.functions.UploadDataPrimaryCategory(test_address8, False, False, False, False, True).estimateGas())\n",
    "#print(\"Gas\", Contract.functions.UploadDataRequirements(test_address0, False, True, False, False, False, False, False, False).estimateGas())\n",
    "#print(\"Gas\", Contract.functions.giveResearchPurpose(test_address13, True, True, False, False, False).estimateGas())\n",
    "#print(\"Gas\", Contract.functions.givePerson(test_address13, True, False, True, False).estimateGas())\n",
    "#print(\"Gas\", Contract.functions.giveProfit(test_address13, True, False).estimateGas())\n",
    "#print(\"Gas\", Contract.functions.AccessData(test_address1, test_address13).estimateGas())\n",
    "#print(\"Gas\", Contract.functions.AccessData(test_address1, test_address14).estimateGas())\n",
    "#print(\"Gas\", Contract.functions.AccessData(test_address1, test_address15).estimateGas())"
   ]
  }
 ],
 "metadata": {
  "hide_input": false,
  "kernel_info": {
   "name": "python3"
  },
  "kernelspec": {
   "display_name": "luce_vm",
   "language": "python",
   "name": "luce_vm"
  },
  "language_info": {
   "codemirror_mode": {
    "name": "ipython",
    "version": 3
   },
   "file_extension": ".py",
   "mimetype": "text/x-python",
   "name": "python",
   "nbconvert_exporter": "python",
   "pygments_lexer": "ipython3",
   "version": "3.7.3"
  },
  "nteract": {
   "version": "0.14.3"
  },
  "toc": {
   "base_numbering": 1,
   "nav_menu": {},
   "number_sections": false,
   "sideBar": true,
   "skip_h1_title": false,
   "title_cell": "Table of Contents",
   "title_sidebar": "Contents",
   "toc_cell": false,
   "toc_position": {
    "height": "618px",
    "left": "214px",
    "top": "110px",
    "width": "288px"
   },
   "toc_section_display": true,
   "toc_window_display": true
  },
  "varInspector": {
   "cols": {
    "lenName": 16,
    "lenType": 16,
    "lenVar": 40
   },
   "kernels_config": {
    "python": {
     "delete_cmd_postfix": "",
     "delete_cmd_prefix": "del ",
     "library": "var_list.py",
     "varRefreshCmd": "print(var_dic_list())"
    },
    "r": {
     "delete_cmd_postfix": ") ",
     "delete_cmd_prefix": "rm(",
     "library": "var_list.r",
     "varRefreshCmd": "cat(var_dic_list()) "
    }
   },
   "types_to_exclude": [
    "module",
    "function",
    "builtin_function_or_method",
    "instance",
    "_Feature"
   ],
   "window_display": false
  }
 },
 "nbformat": 4,
 "nbformat_minor": 2
}
