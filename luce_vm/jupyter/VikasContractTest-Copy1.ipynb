{
 "cells": [
  {
   "cell_type": "markdown",
   "metadata": {},
   "source": [
    "### Deploy and Interact with Consent based Smart Contract\n",
    "The aim of this notebook is to compile, deploy and interact with consent based smart contract"
   ]
  },
  {
   "cell_type": "markdown",
   "metadata": {},
   "source": [
    "### Compile contract from file"
   ]
  },
  {
   "cell_type": "code",
   "execution_count": 1425,
   "metadata": {
    "inputHidden": false,
    "outputHidden": false
   },
   "outputs": [],
   "source": [
    "# Import libraries\n",
    "import json\n",
    "import web3\n",
    "from datetime import datetime\n",
    "from web3 import Web3\n",
    "from solcx import compile_source\n",
    "from web3.contract import ConciseContract"
   ]
  },
  {
   "cell_type": "code",
   "execution_count": 1426,
   "metadata": {},
   "outputs": [],
   "source": [
    "# Read in LUCE contract code\n",
    "with open('./data/ConsentContract.sol', 'r') as file:\n",
    "    contract_source_code = file.read()"
   ]
  },
  {
   "cell_type": "code",
   "execution_count": 1427,
   "metadata": {},
   "outputs": [],
   "source": [
    "# Compile & Store Compiled source code\n",
    "compiled_sol = compile_source(contract_source_code)"
   ]
  },
  {
   "cell_type": "code",
   "execution_count": 1428,
   "metadata": {},
   "outputs": [],
   "source": [
    "#compiled_sol"
   ]
  },
  {
   "cell_type": "code",
   "execution_count": 1429,
   "metadata": {},
   "outputs": [],
   "source": [
    "# Extract full interface as dict from compiled contract\n",
    "contract_interface = compiled_sol['<stdin>:ConsentCode']"
   ]
  },
  {
   "cell_type": "code",
   "execution_count": 1430,
   "metadata": {},
   "outputs": [],
   "source": [
    "#contract_interface"
   ]
  },
  {
   "cell_type": "code",
   "execution_count": 1431,
   "metadata": {},
   "outputs": [],
   "source": [
    "# Extract abi and bytecode\n",
    "abi = contract_interface['abi']\n",
    "bytecode = contract_interface['bin']"
   ]
  },
  {
   "cell_type": "markdown",
   "metadata": {},
   "source": [
    "### Deploy"
   ]
  },
  {
   "cell_type": "code",
   "execution_count": 1432,
   "metadata": {},
   "outputs": [],
   "source": [
    "# Use Ganache for web3 instance\n",
    "w3 = Web3(Web3.HTTPProvider(\"HTTP://127.0.0.1:8545\"))"
   ]
  },
  {
   "cell_type": "code",
   "execution_count": 1433,
   "metadata": {},
   "outputs": [],
   "source": [
    "# Use local Ganache GUI on macOS\n",
    "#w3 = Web3(Web3.HTTPProvider(\"HTTP://192.168.72.1:7545\"))"
   ]
  },
  {
   "cell_type": "code",
   "execution_count": 1434,
   "metadata": {},
   "outputs": [],
   "source": [
    "# Set pre-funded ganache account #0 as sender\n",
    "w3.eth.defaultAccount = w3.eth.accounts[0]"
   ]
  },
  {
   "cell_type": "code",
   "execution_count": 1435,
   "metadata": {},
   "outputs": [
    {
     "data": {
      "text/plain": [
       "'0x92D44e8579620F2Db88A12E70FE38e8CDB3541BA'"
      ]
     },
     "execution_count": 1435,
     "metadata": {},
     "output_type": "execute_result"
    }
   ],
   "source": [
    "w3.eth.accounts[0]"
   ]
  },
  {
   "cell_type": "markdown",
   "metadata": {},
   "source": [
    "The default `eth.defaultAccount` address is used as the default \"from\" property for transaction dictionaries if no other explicit \"from\" property is specified."
   ]
  },
  {
   "cell_type": "code",
   "execution_count": 1436,
   "metadata": {},
   "outputs": [],
   "source": [
    "# Create contract blueprint\n",
    "Contract = w3.eth.contract(abi=abi, bytecode=bytecode)"
   ]
  },
  {
   "cell_type": "code",
   "execution_count": 1437,
   "metadata": {},
   "outputs": [],
   "source": [
    "# Submit the transaction that deploys the contract\n",
    "tx_hash = Contract.constructor().transact()"
   ]
  },
  {
   "cell_type": "code",
   "execution_count": 1438,
   "metadata": {},
   "outputs": [
    {
     "data": {
      "text/plain": [
       "HexBytes('0xea7758962f55f6b5e5d70b3729ae70f3db70892cd5967d768299051aa3661cac')"
      ]
     },
     "execution_count": 1438,
     "metadata": {},
     "output_type": "execute_result"
    }
   ],
   "source": [
    "tx_hash"
   ]
  },
  {
   "cell_type": "markdown",
   "metadata": {},
   "source": [
    "### Obtain Transcation Receipt"
   ]
  },
  {
   "cell_type": "code",
   "execution_count": 1439,
   "metadata": {},
   "outputs": [],
   "source": [
    "# Wait for the transaction to be mined, and get the transaction receipt\n",
    "tx_receipt = w3.eth.waitForTransactionReceipt(tx_hash)"
   ]
  },
  {
   "cell_type": "code",
   "execution_count": 1440,
   "metadata": {},
   "outputs": [
    {
     "name": "stdout",
     "output_type": "stream",
     "text": [
      "The contract is deployed with block number 1274 .\n"
     ]
    }
   ],
   "source": [
    "# We obtain the block number under which it is deployed \n",
    "global contract_block\n",
    "contract_block = w3.eth.blockNumber\n",
    "print(\"The contract is deployed with block number\",contract_block,\".\")"
   ]
  },
  {
   "cell_type": "code",
   "execution_count": 1441,
   "metadata": {},
   "outputs": [
    {
     "name": "stdout",
     "output_type": "stream",
     "text": [
      "The contract has the address 0x901A1B50C2188ABD5d1759Bf02c8E3bc92e17c94 .\n"
     ]
    }
   ],
   "source": [
    "# With obtain the final address of the contract \n",
    "global contract_address\n",
    "contract_address = tx_receipt.contractAddress\n",
    "print(\"The contract has the address\", contract_address,\".\")"
   ]
  },
  {
   "cell_type": "markdown",
   "metadata": {},
   "source": [
    "### Interact with contract"
   ]
  },
  {
   "cell_type": "code",
   "execution_count": 1442,
   "metadata": {},
   "outputs": [],
   "source": [
    "# Create python instance of deployed contract\n",
    "Contract = w3.eth.contract(\n",
    "    address=tx_receipt.contractAddress,\n",
    "    abi=contract_interface['abi'],\n",
    ")"
   ]
  },
  {
   "cell_type": "code",
   "execution_count": 1443,
   "metadata": {},
   "outputs": [],
   "source": [
    "# Extract default accounts created by ganache\n",
    "accounts = w3.eth.accounts"
   ]
  },
  {
   "cell_type": "code",
   "execution_count": 1444,
   "metadata": {},
   "outputs": [
    {
     "data": {
      "text/plain": [
       "['0x92D44e8579620F2Db88A12E70FE38e8CDB3541BA',\n",
       " '0xbf7ca7e607516Cd0F1b94a6C77F45fbFD936949C',\n",
       " '0x43e196C418b4b7Ebf71ba534042cC8907bd39dc9',\n",
       " '0x2aD1e0fAC9d6D523Fb1f21aE1Bc6acA09dD60c7F',\n",
       " '0x3c93550555cDD5218bB2923008b3Fb4ea6Ee4618',\n",
       " '0xf12C911960968c187090b52998a3597b35BC2619',\n",
       " '0x172bE1ee3f659A83a9C307fafafA51c9F91954Ae',\n",
       " '0x515f90440fA63377d7451E58B3be334F9393Ad74',\n",
       " '0x27F82fD9E21a3758737Cf3BCCA9652064186107C',\n",
       " '0x6eEA265cd899aE17Cf588744E4C7Fe31e3258E85',\n",
       " '0xE17087878F32b8dAba31B9c7A2c8de6e7DE1478E',\n",
       " '0x5F180b2f4750258566513c63381F04105bAAceeD',\n",
       " '0x2Ab8E2Df1ce02ECf6d0D0a34ee1e3d7470ebB5ff',\n",
       " '0x38643b8d4A129c011F71B934f213582F19aFA04D',\n",
       " '0xce4af93d4BA5CED45f3ec13c41000a6a00D67F6F',\n",
       " '0xeA9C047468d4ee0c806F364150c7b1d709FfE2A1']"
      ]
     },
     "execution_count": 1444,
     "metadata": {},
     "output_type": "execute_result"
    }
   ],
   "source": [
    "accounts"
   ]
  },
  {
   "cell_type": "markdown",
   "metadata": {},
   "source": [
    "**UploadData**  \n",
    "```solidity\n",
    "   function UploadDataPrimaryCategory(\n",
    "        address _address1,\n",
    "        bool _NoRestrictions,\n",
    "        bool _OpenToGeneralResearchAndClinicalCare,\n",
    "        bool _OpenToHMBResearch,\n",
    "        bool _OpenToPopulationAndAncestryResearch,\n",
    "        bool _OpenToDiseaseSpecific)\n",
    "```\n",
    "```solidity\n",
    "    function UploadDataSecondaryCategory(\n",
    "        address _address1, \n",
    "        bool _OpenToGeneticStudiesOnly,\n",
    "        bool _ResearchSpecificRestrictions,\n",
    "        bool _OpenToResearchUseOnly,\n",
    "        bool _NoGeneralMethodResearch)\n",
    "```\n",
    "\n",
    "```solidity\n",
    "   function UploadDataRequirements(\n",
    "        address _address1,\n",
    "        bool _GeographicSpecificRestriction,\n",
    "        bool _OpenToNonProfitUseOnly,\n",
    "        bool _PublicationRequired,\n",
    "        bool _CollaborationRequired,\n",
    "        bool _EthicsApprovalrequired,\n",
    "        bool _TimeLimitOnUse,\n",
    "        bool _CostOnUse,\n",
    "        bool _DataSecurityMeasuresRequired)\n",
    "```"
   ]
  },
  {
   "cell_type": "code",
   "execution_count": 1445,
   "metadata": {},
   "outputs": [],
   "source": [
    "#print(\"Gas\", Contract.functions.UploadDataPrimaryCategory(test_address0, False, True, True, True, True).estimateGas())\n",
    "startTime = datetime.now()"
   ]
  },
  {
   "cell_type": "code",
   "execution_count": 1446,
   "metadata": {},
   "outputs": [],
   "source": [
    "#Data provider consent (General research & non-profit)\n",
    "#D-001 (open)\n",
    "test_address0 = accounts[0]\n",
    "\n",
    "tx_hash = Contract.functions.UploadDataPrimaryCategory(test_address0, False, True, True, True, True).transact()\n",
    "tx_hash = Contract.functions.UploadDataRequirements(test_address0, False, True, False, False, False, False, False, False).transact()"
   ]
  },
  {
   "cell_type": "code",
   "execution_count": 1447,
   "metadata": {},
   "outputs": [],
   "source": [
    "#print(w3.eth.getBlock('latest'))"
   ]
  },
  {
   "cell_type": "code",
   "execution_count": 1448,
   "metadata": {},
   "outputs": [
    {
     "name": "stdout",
     "output_type": "stream",
     "text": [
      "elapsedTimeDataProvider 0:00:00.222740\n"
     ]
    }
   ],
   "source": [
    "endTimeDataProvider = datetime.now()\n",
    "elapsedTimeDataProvider = endTimeDataProvider - startTime\n",
    "print(\"elapsedTimeDataProvider\", elapsedTimeDataProvider)"
   ]
  },
  {
   "cell_type": "code",
   "execution_count": 1449,
   "metadata": {},
   "outputs": [],
   "source": [
    "#tx_hash"
   ]
  },
  {
   "cell_type": "markdown",
   "metadata": {},
   "source": [
    "**giveResearchPurpose**  \n",
    "```solidity\n",
    " function giveResearchPurpose(\n",
    "        address _address2,\n",
    "        bool _UseForMethodsDevelopment,\n",
    "        bool _UseForReferenceOrControlMaterial,\n",
    "        bool _UseForPopulationsResearch,\n",
    "        bool _UseForAncestryResearch,\n",
    "        bool _UseForHMBResearch)\n",
    "```\n",
    "\n",
    "**giveHMBPurpose**  \n",
    "```solidity\n",
    " function giveHMBPurpose( \n",
    "        address _address2, \n",
    "        bool _UseForFundamentalBioResearch,\n",
    "        bool _UseForGeneticsResearch,\n",
    "        bool _UseForDrugDevelopmentResearch, \n",
    "        bool _UseForAnyDiseaseResearch,\n",
    "        bool _UseForAgeCategoriesResearch,\n",
    "        bool _UseForGenderCategoriesResearch)\n",
    "```\n",
    "\n",
    "**giveClinicalPurpose**  \n",
    "```solidity\n",
    " function giveClinicalPurpose( \n",
    "        address _address2, \n",
    "        bool _UseForDecisionSupport, \n",
    "        bool _UseForDiseaseSupport)\n",
    "```\n",
    "\n",
    "**givePerson**  \n",
    "```solidity\n",
    " function givePerson( \n",
    "        address _address2,\n",
    "        bool _UseByAcademicProfessionals,\n",
    "        bool _UseByClinicalProfessionals,\n",
    "        bool _UseByProfitMakingProfessionals, \n",
    "        bool _UseByNonProfessionals)\n",
    "```\n",
    "\n",
    "**giveGeographicSpecificRestriction**  \n",
    "```solidity\n",
    " function giveGeographicSpecificRestriction( \n",
    "        address _address2, \n",
    "        bool _UseBySpecifiedCountries)\n",
    "```\n",
    "**giveProfit**  \n",
    "```solidity\n",
    " function giveProfit( \n",
    "        address _address2, \n",
    "        bool _UseForProfitPurpose,\n",
    "        bool _UseForNonProfitPurpose)\n",
    "```\n",
    "**giveDataRequester_Terms**  \n",
    "```solidity\n",
    " function giveDataRequester_Terms( \n",
    "        address _address2, \n",
    "        bool _NoTimelineRestrictions,\n",
    "        bool _NoFormalApprovalRequired,\n",
    "        bool _NoCollaborationRequired,\n",
    "        bool _NoPublicationRequired,\n",
    "        bool _NoDataSecurityMeasures,\n",
    "        bool _NoDataDestructionRequired,\n",
    "        bool _NoLinkingOfAccessedRecords,\n",
    "        bool _NoRecontactingDataSubjects,\n",
    "        bool _NoIntellectualPropertyClaims,\n",
    "        bool _NoUseOfAccessedResources,\n",
    "        bool _NoFeesForAccess)\n",
    "```"
   ]
  },
  {
   "cell_type": "code",
   "execution_count": 1450,
   "metadata": {},
   "outputs": [],
   "source": [
    "#Data Requesters Account  \n",
    "test_address13 = accounts[13]\n",
    "test_address14 = accounts[14]\n",
    "test_address15 = accounts[15]\n",
    "\n",
    "#Data Requester 1 (General Research and Profit-Making)\n",
    "\n",
    "tx_hash = Contract.functions.giveResearchPurpose(test_address13, True, True, False, False, False).transact()\n",
    "tx_hash = Contract.functions.givePerson(test_address13, True, False, True, False).transact()\n",
    "tx_hash = Contract.functions.giveProfit(test_address13, True, False).transact()\n",
    "\n",
    "#Data Requester 2 (HMB and Profit Making)\n",
    "tx_hash = Contract.functions.giveHMBPurpose(test_address14, True, True, True, False, True, True).transact()\n",
    "tx_hash = Contract.functions.givePerson(test_address14, False, True, True, False).transact()\n",
    "tx_hash = Contract.functions.giveProfit(test_address14, True, False).transact()\n",
    "\n",
    "\n",
    "#Data Requester 3 (Disease Specific and Non-Profit-Making)\n",
    "tx_hash = Contract.functions.giveHMBPurpose(test_address15, False, False, False, True, False, False).transact()\n",
    "tx_hash = Contract.functions.givePerson(test_address15, False, True, False, False).transact()\n",
    "tx_hash = Contract.functions.giveProfit(test_address15, False, True).transact()\n"
   ]
  },
  {
   "cell_type": "code",
   "execution_count": 1451,
   "metadata": {},
   "outputs": [
    {
     "data": {
      "text/plain": [
       "False"
      ]
     },
     "execution_count": 1451,
     "metadata": {},
     "output_type": "execute_result"
    }
   ],
   "source": [
    "Contract.functions.AccessData(test_address0, test_address13).call()"
   ]
  },
  {
   "cell_type": "code",
   "execution_count": 1452,
   "metadata": {},
   "outputs": [
    {
     "name": "stdout",
     "output_type": "stream",
     "text": [
      "elapsedTimeDataRequester13 0:00:00.955438\n"
     ]
    }
   ],
   "source": [
    "#endTimeDataRequester13 = datetime.now()\n",
    "#elapsedTimeDataRequester13 = endTimeDataRequester13 - startTime\n",
    "#print(\"elapsedTimeDataRequester13\", elapsedTimeDataRequester13)"
   ]
  },
  {
   "cell_type": "code",
   "execution_count": 1453,
   "metadata": {},
   "outputs": [
    {
     "data": {
      "text/plain": [
       "False"
      ]
     },
     "execution_count": 1453,
     "metadata": {},
     "output_type": "execute_result"
    }
   ],
   "source": [
    "Contract.functions.AccessData(test_address0, test_address14).call()"
   ]
  },
  {
   "cell_type": "code",
   "execution_count": 1454,
   "metadata": {},
   "outputs": [
    {
     "data": {
      "text/plain": [
       "True"
      ]
     },
     "execution_count": 1454,
     "metadata": {},
     "output_type": "execute_result"
    }
   ],
   "source": [
    "Contract.functions.AccessData(test_address0, test_address15).call()"
   ]
  },
  {
   "cell_type": "code",
   "execution_count": 1455,
   "metadata": {},
   "outputs": [
    {
     "name": "stdout",
     "output_type": "stream",
     "text": [
      "elapsedTime 0:00:01.052130\n"
     ]
    }
   ],
   "source": [
    "#endTime = datetime.now()\n",
    "#elapsedTime = endTime - startTime\n",
    "#print(\"elapsedTime\", elapsedTime)"
   ]
  },
  {
   "cell_type": "code",
   "execution_count": 1456,
   "metadata": {},
   "outputs": [],
   "source": [
    "#Data provider consent (General research & profit making)\n",
    "#D-002\n",
    "test_address1 = accounts[1]\n",
    "tx_hash = Contract.functions.UploadDataPrimaryCategory(test_address1, False, True, True, True, True).transact()"
   ]
  },
  {
   "cell_type": "code",
   "execution_count": 1457,
   "metadata": {},
   "outputs": [
    {
     "data": {
      "text/plain": [
       "True"
      ]
     },
     "execution_count": 1457,
     "metadata": {},
     "output_type": "execute_result"
    }
   ],
   "source": [
    "Contract.functions.AccessData(test_address1, test_address13).call()"
   ]
  },
  {
   "cell_type": "code",
   "execution_count": 1458,
   "metadata": {},
   "outputs": [
    {
     "data": {
      "text/plain": [
       "True"
      ]
     },
     "execution_count": 1458,
     "metadata": {},
     "output_type": "execute_result"
    }
   ],
   "source": [
    "Contract.functions.AccessData(test_address1, test_address14).call()"
   ]
  },
  {
   "cell_type": "code",
   "execution_count": 1459,
   "metadata": {},
   "outputs": [
    {
     "data": {
      "text/plain": [
       "True"
      ]
     },
     "execution_count": 1459,
     "metadata": {},
     "output_type": "execute_result"
    }
   ],
   "source": [
    "Contract.functions.AccessData(test_address1, test_address15).call()"
   ]
  },
  {
   "cell_type": "code",
   "execution_count": 1460,
   "metadata": {},
   "outputs": [],
   "source": [
    "#Data provider consent (General research & non-profit making)\n",
    "#H-001 \n",
    "test_address2 = accounts[2]\n",
    "\n",
    "tx_hash = Contract.functions.UploadDataPrimaryCategory(test_address2, False, True, False, False, False).transact()\n",
    "tx_hash = Contract.functions.UploadDataRequirements(test_address2, False, True, False, False, False, False, False, False).transact()"
   ]
  },
  {
   "cell_type": "code",
   "execution_count": 1461,
   "metadata": {},
   "outputs": [
    {
     "data": {
      "text/plain": [
       "False"
      ]
     },
     "execution_count": 1461,
     "metadata": {},
     "output_type": "execute_result"
    }
   ],
   "source": [
    "Contract.functions.AccessData(test_address2, test_address13).call()"
   ]
  },
  {
   "cell_type": "code",
   "execution_count": 1462,
   "metadata": {},
   "outputs": [
    {
     "data": {
      "text/plain": [
       "False"
      ]
     },
     "execution_count": 1462,
     "metadata": {},
     "output_type": "execute_result"
    }
   ],
   "source": [
    "Contract.functions.AccessData(test_address2, test_address14).call()"
   ]
  },
  {
   "cell_type": "code",
   "execution_count": 1463,
   "metadata": {},
   "outputs": [
    {
     "data": {
      "text/plain": [
       "False"
      ]
     },
     "execution_count": 1463,
     "metadata": {},
     "output_type": "execute_result"
    }
   ],
   "source": [
    "Contract.functions.AccessData(test_address2, test_address15).call()"
   ]
  },
  {
   "cell_type": "code",
   "execution_count": 1464,
   "metadata": {},
   "outputs": [],
   "source": [
    "#Data provider consent (General research & profit making)\n",
    "#H-002 \n",
    "test_address3 = accounts[3]\n",
    "\n",
    "tx_hash = Contract.functions.UploadDataPrimaryCategory(test_address3, False, True, False, False, False).transact()"
   ]
  },
  {
   "cell_type": "code",
   "execution_count": 1465,
   "metadata": {},
   "outputs": [
    {
     "data": {
      "text/plain": [
       "True"
      ]
     },
     "execution_count": 1465,
     "metadata": {},
     "output_type": "execute_result"
    }
   ],
   "source": [
    "Contract.functions.AccessData(test_address3, test_address13).call()"
   ]
  },
  {
   "cell_type": "code",
   "execution_count": 1466,
   "metadata": {},
   "outputs": [
    {
     "data": {
      "text/plain": [
       "False"
      ]
     },
     "execution_count": 1466,
     "metadata": {},
     "output_type": "execute_result"
    }
   ],
   "source": [
    "Contract.functions.AccessData(test_address3, test_address14).call()"
   ]
  },
  {
   "cell_type": "code",
   "execution_count": 1467,
   "metadata": {},
   "outputs": [
    {
     "data": {
      "text/plain": [
       "False"
      ]
     },
     "execution_count": 1467,
     "metadata": {},
     "output_type": "execute_result"
    }
   ],
   "source": [
    "Contract.functions.AccessData(test_address3, test_address15).call()"
   ]
  },
  {
   "cell_type": "code",
   "execution_count": 1468,
   "metadata": {},
   "outputs": [],
   "source": [
    "#Data provider consent (HMB research & non-profit making)\n",
    "#D-003 \n",
    "test_address4 = accounts[4]\n",
    "\n",
    "tx_hash = Contract.functions.UploadDataPrimaryCategory(test_address4, False, False, True, False, True).transact()\n",
    "tx_hash = Contract.functions.UploadDataRequirements(test_address4, False, True, False, False, False, False, False, False).transact()"
   ]
  },
  {
   "cell_type": "code",
   "execution_count": 1469,
   "metadata": {},
   "outputs": [
    {
     "data": {
      "text/plain": [
       "False"
      ]
     },
     "execution_count": 1469,
     "metadata": {},
     "output_type": "execute_result"
    }
   ],
   "source": [
    "Contract.functions.AccessData(test_address4, test_address13).call()"
   ]
  },
  {
   "cell_type": "code",
   "execution_count": 1470,
   "metadata": {},
   "outputs": [
    {
     "data": {
      "text/plain": [
       "False"
      ]
     },
     "execution_count": 1470,
     "metadata": {},
     "output_type": "execute_result"
    }
   ],
   "source": [
    "Contract.functions.AccessData(test_address4, test_address14).call()"
   ]
  },
  {
   "cell_type": "code",
   "execution_count": 1471,
   "metadata": {},
   "outputs": [
    {
     "data": {
      "text/plain": [
       "True"
      ]
     },
     "execution_count": 1471,
     "metadata": {},
     "output_type": "execute_result"
    }
   ],
   "source": [
    "Contract.functions.AccessData(test_address4, test_address15).call()"
   ]
  },
  {
   "cell_type": "code",
   "execution_count": 1472,
   "metadata": {},
   "outputs": [],
   "source": [
    "#Data provider consent (HMB research & profit making)\n",
    "#D-004 \n",
    "test_address5 = accounts[5]\n",
    "\n",
    "tx_hash = Contract.functions.UploadDataPrimaryCategory(test_address5, False, False, True, False, True).transact()"
   ]
  },
  {
   "cell_type": "code",
   "execution_count": 1473,
   "metadata": {},
   "outputs": [
    {
     "data": {
      "text/plain": [
       "False"
      ]
     },
     "execution_count": 1473,
     "metadata": {},
     "output_type": "execute_result"
    }
   ],
   "source": [
    "Contract.functions.AccessData(test_address5, test_address13).call()"
   ]
  },
  {
   "cell_type": "code",
   "execution_count": 1474,
   "metadata": {},
   "outputs": [
    {
     "data": {
      "text/plain": [
       "True"
      ]
     },
     "execution_count": 1474,
     "metadata": {},
     "output_type": "execute_result"
    }
   ],
   "source": [
    "Contract.functions.AccessData(test_address5, test_address14).call()"
   ]
  },
  {
   "cell_type": "code",
   "execution_count": 1475,
   "metadata": {},
   "outputs": [
    {
     "data": {
      "text/plain": [
       "True"
      ]
     },
     "execution_count": 1475,
     "metadata": {},
     "output_type": "execute_result"
    }
   ],
   "source": [
    "Contract.functions.AccessData(test_address5, test_address15).call()"
   ]
  },
  {
   "cell_type": "code",
   "execution_count": 1476,
   "metadata": {},
   "outputs": [],
   "source": [
    "#Data provider consent (HMB research & non-profit making)\n",
    "#H-003 \n",
    "test_address6 = accounts[6]\n",
    "\n",
    "tx_hash = Contract.functions.UploadDataPrimaryCategory(test_address6, False, False, True, False, False).transact()\n",
    "tx_hash = Contract.functions.UploadDataRequirements(test_address6, False, True, False, False, False, False, False, False).transact()"
   ]
  },
  {
   "cell_type": "code",
   "execution_count": 1477,
   "metadata": {},
   "outputs": [
    {
     "data": {
      "text/plain": [
       "False"
      ]
     },
     "execution_count": 1477,
     "metadata": {},
     "output_type": "execute_result"
    }
   ],
   "source": [
    "Contract.functions.AccessData(test_address6, test_address13).call()"
   ]
  },
  {
   "cell_type": "code",
   "execution_count": 1478,
   "metadata": {},
   "outputs": [
    {
     "data": {
      "text/plain": [
       "False"
      ]
     },
     "execution_count": 1478,
     "metadata": {},
     "output_type": "execute_result"
    }
   ],
   "source": [
    "Contract.functions.AccessData(test_address6, test_address14).call()"
   ]
  },
  {
   "cell_type": "code",
   "execution_count": 1479,
   "metadata": {},
   "outputs": [
    {
     "data": {
      "text/plain": [
       "False"
      ]
     },
     "execution_count": 1479,
     "metadata": {},
     "output_type": "execute_result"
    }
   ],
   "source": [
    "Contract.functions.AccessData(test_address6, test_address15).call()"
   ]
  },
  {
   "cell_type": "code",
   "execution_count": 1480,
   "metadata": {},
   "outputs": [],
   "source": [
    "#Data provider consent (HMB research & profit making)\n",
    "#H-004 \n",
    "test_address7 = accounts[7]\n",
    "\n",
    "tx_hash = Contract.functions.UploadDataPrimaryCategory(test_address7, False, False, True, False, False).transact()"
   ]
  },
  {
   "cell_type": "code",
   "execution_count": 1481,
   "metadata": {},
   "outputs": [
    {
     "data": {
      "text/plain": [
       "False"
      ]
     },
     "execution_count": 1481,
     "metadata": {},
     "output_type": "execute_result"
    }
   ],
   "source": [
    "Contract.functions.AccessData(test_address7, test_address13).call()"
   ]
  },
  {
   "cell_type": "code",
   "execution_count": 1482,
   "metadata": {},
   "outputs": [
    {
     "data": {
      "text/plain": [
       "True"
      ]
     },
     "execution_count": 1482,
     "metadata": {},
     "output_type": "execute_result"
    }
   ],
   "source": [
    "Contract.functions.AccessData(test_address7, test_address14).call()"
   ]
  },
  {
   "cell_type": "code",
   "execution_count": 1483,
   "metadata": {},
   "outputs": [
    {
     "data": {
      "text/plain": [
       "False"
      ]
     },
     "execution_count": 1483,
     "metadata": {},
     "output_type": "execute_result"
    }
   ],
   "source": [
    "Contract.functions.AccessData(test_address7, test_address15).call()"
   ]
  },
  {
   "cell_type": "code",
   "execution_count": 1484,
   "metadata": {},
   "outputs": [],
   "source": [
    "#Data provider consent (Disease-specific research & non-profit making)\n",
    "#D-005 \n",
    "test_address8 = accounts[8]\n",
    "\n",
    "tx_hash = Contract.functions.UploadDataPrimaryCategory(test_address8, False, False, False, False, True).transact()\n",
    "tx_hash = Contract.functions.UploadDataRequirements(test_address8, False, True, False, False, False, False, False, False).transact()"
   ]
  },
  {
   "cell_type": "code",
   "execution_count": 1485,
   "metadata": {},
   "outputs": [
    {
     "data": {
      "text/plain": [
       "False"
      ]
     },
     "execution_count": 1485,
     "metadata": {},
     "output_type": "execute_result"
    }
   ],
   "source": [
    "Contract.functions.AccessData(test_address8, test_address13).call()"
   ]
  },
  {
   "cell_type": "code",
   "execution_count": 1486,
   "metadata": {},
   "outputs": [
    {
     "data": {
      "text/plain": [
       "False"
      ]
     },
     "execution_count": 1486,
     "metadata": {},
     "output_type": "execute_result"
    }
   ],
   "source": [
    "Contract.functions.AccessData(test_address8, test_address14).call()"
   ]
  },
  {
   "cell_type": "code",
   "execution_count": 1487,
   "metadata": {},
   "outputs": [
    {
     "data": {
      "text/plain": [
       "True"
      ]
     },
     "execution_count": 1487,
     "metadata": {},
     "output_type": "execute_result"
    }
   ],
   "source": [
    "Contract.functions.AccessData(test_address8, test_address15).call()"
   ]
  },
  {
   "cell_type": "code",
   "execution_count": 1488,
   "metadata": {},
   "outputs": [],
   "source": [
    "#Data provider consent (Disease-specific research & profit making)\n",
    "# D-006 \n",
    "test_address9 = accounts[9]\n",
    "\n",
    "tx_hash = Contract.functions.UploadDataPrimaryCategory(test_address9, False, False, False, False, True).transact()"
   ]
  },
  {
   "cell_type": "code",
   "execution_count": 1489,
   "metadata": {},
   "outputs": [
    {
     "data": {
      "text/plain": [
       "False"
      ]
     },
     "execution_count": 1489,
     "metadata": {},
     "output_type": "execute_result"
    }
   ],
   "source": [
    "Contract.functions.AccessData(test_address9, test_address13).call()"
   ]
  },
  {
   "cell_type": "code",
   "execution_count": 1490,
   "metadata": {},
   "outputs": [
    {
     "data": {
      "text/plain": [
       "False"
      ]
     },
     "execution_count": 1490,
     "metadata": {},
     "output_type": "execute_result"
    }
   ],
   "source": [
    "Contract.functions.AccessData(test_address9, test_address14).call()"
   ]
  },
  {
   "cell_type": "code",
   "execution_count": 1491,
   "metadata": {},
   "outputs": [
    {
     "data": {
      "text/plain": [
       "True"
      ]
     },
     "execution_count": 1491,
     "metadata": {},
     "output_type": "execute_result"
    }
   ],
   "source": [
    "Contract.functions.AccessData(test_address9, test_address15).call()"
   ]
  },
  {
   "cell_type": "code",
   "execution_count": 1492,
   "metadata": {},
   "outputs": [],
   "source": [
    "#Data provider consent (Disease-specific research & non-profit making)\n",
    "#H-005 \n",
    "test_address10 = accounts[10]\n",
    "\n",
    "tx_hash = Contract.functions.UploadDataPrimaryCategory(test_address10, False, False, False, False, False).transact()\n",
    "tx_hash = Contract.functions.UploadDataRequirements(test_address10, False, True, False, False, False, False, False, False).transact()"
   ]
  },
  {
   "cell_type": "code",
   "execution_count": 1493,
   "metadata": {},
   "outputs": [
    {
     "data": {
      "text/plain": [
       "False"
      ]
     },
     "execution_count": 1493,
     "metadata": {},
     "output_type": "execute_result"
    }
   ],
   "source": [
    "Contract.functions.AccessData(test_address10, test_address13).call()"
   ]
  },
  {
   "cell_type": "code",
   "execution_count": 1494,
   "metadata": {},
   "outputs": [
    {
     "data": {
      "text/plain": [
       "False"
      ]
     },
     "execution_count": 1494,
     "metadata": {},
     "output_type": "execute_result"
    }
   ],
   "source": [
    "Contract.functions.AccessData(test_address10, test_address14).call()"
   ]
  },
  {
   "cell_type": "code",
   "execution_count": 1495,
   "metadata": {},
   "outputs": [
    {
     "data": {
      "text/plain": [
       "False"
      ]
     },
     "execution_count": 1495,
     "metadata": {},
     "output_type": "execute_result"
    }
   ],
   "source": [
    "Contract.functions.AccessData(test_address10, test_address15).call()"
   ]
  },
  {
   "cell_type": "code",
   "execution_count": 1496,
   "metadata": {},
   "outputs": [],
   "source": [
    "#Data provider consent (Disease-specific research & profit making)\n",
    "#H-006 \n",
    "test_address11 = accounts[11]\n",
    "\n",
    "tx_hash = Contract.functions.UploadDataPrimaryCategory(test_address11, False, False, False, False, False).transact()"
   ]
  },
  {
   "cell_type": "code",
   "execution_count": 1497,
   "metadata": {},
   "outputs": [
    {
     "data": {
      "text/plain": [
       "False"
      ]
     },
     "execution_count": 1497,
     "metadata": {},
     "output_type": "execute_result"
    }
   ],
   "source": [
    "Contract.functions.AccessData(test_address11, test_address13).call()"
   ]
  },
  {
   "cell_type": "code",
   "execution_count": 1498,
   "metadata": {},
   "outputs": [
    {
     "data": {
      "text/plain": [
       "False"
      ]
     },
     "execution_count": 1498,
     "metadata": {},
     "output_type": "execute_result"
    }
   ],
   "source": [
    "Contract.functions.AccessData(test_address11, test_address14).call()"
   ]
  },
  {
   "cell_type": "code",
   "execution_count": 1499,
   "metadata": {},
   "outputs": [
    {
     "data": {
      "text/plain": [
       "False"
      ]
     },
     "execution_count": 1499,
     "metadata": {},
     "output_type": "execute_result"
    }
   ],
   "source": [
    "Contract.functions.AccessData(test_address11, test_address15).call()"
   ]
  },
  {
   "cell_type": "code",
   "execution_count": 1500,
   "metadata": {},
   "outputs": [
    {
     "name": "stdout",
     "output_type": "stream",
     "text": [
      "elapsedTime1 0:00:03.645687\n"
     ]
    }
   ],
   "source": [
    "endTime1 = datetime.now()\n",
    "elapsedTime1 = endTime1 - startTime\n",
    "print(\"elapsedTime1\", elapsedTime1)"
   ]
  },
  {
   "cell_type": "code",
   "execution_count": 1501,
   "metadata": {},
   "outputs": [],
   "source": [
    "#print(\"Gas\", Contract.functions.UploadDataPrimaryCategory(test_address0, False, True, True, True, True).estimateGas())print(\"Gas\", Contract.functions.UploadDataPrimaryCategory(test_address0, False, True, True, True, True).estimateGas())\n",
    "#print(\"Gas\", Contract.functions.UploadDataPrimaryCategory(test_address8, False, False, False, False, True).estimateGas())\n",
    "#print(\"Gas\", Contract.functions.UploadDataRequirements(test_address0, False, True, False, False, False, False, False, False).estimateGas())\n",
    "#print(\"Gas\", Contract.functions.giveResearchPurpose(test_address13, True, True, False, False, False).estimateGas())\n",
    "#print(\"Gas\", Contract.functions.givePerson(test_address13, True, False, True, False).estimateGas())\n",
    "#print(\"Gas\", Contract.functions.giveProfit(test_address13, True, False).estimateGas())\n",
    "#print(\"Gas\", Contract.functions.AccessData(test_address1, test_address13).estimateGas())\n",
    "#print(\"Gas\", Contract.functions.AccessData(test_address1, test_address14).estimateGas())\n",
    "#print(\"Gas\", Contract.functions.AccessData(test_address1, test_address15).estimateGas())"
   ]
  }
 ],
 "metadata": {
  "hide_input": false,
  "kernel_info": {
   "name": "python3"
  },
  "kernelspec": {
   "display_name": "luce_vm",
   "language": "python",
   "name": "luce_vm"
  },
  "language_info": {
   "codemirror_mode": {
    "name": "ipython",
    "version": 3
   },
   "file_extension": ".py",
   "mimetype": "text/x-python",
   "name": "python",
   "nbconvert_exporter": "python",
   "pygments_lexer": "ipython3",
   "version": "3.7.3"
  },
  "nteract": {
   "version": "0.14.3"
  },
  "toc": {
   "base_numbering": 1,
   "nav_menu": {},
   "number_sections": false,
   "sideBar": true,
   "skip_h1_title": false,
   "title_cell": "Table of Contents",
   "title_sidebar": "Contents",
   "toc_cell": false,
   "toc_position": {
    "height": "618px",
    "left": "214px",
    "top": "110px",
    "width": "288px"
   },
   "toc_section_display": true,
   "toc_window_display": true
  },
  "varInspector": {
   "cols": {
    "lenName": 16,
    "lenType": 16,
    "lenVar": 40
   },
   "kernels_config": {
    "python": {
     "delete_cmd_postfix": "",
     "delete_cmd_prefix": "del ",
     "library": "var_list.py",
     "varRefreshCmd": "print(var_dic_list())"
    },
    "r": {
     "delete_cmd_postfix": ") ",
     "delete_cmd_prefix": "rm(",
     "library": "var_list.r",
     "varRefreshCmd": "cat(var_dic_list()) "
    }
   },
   "types_to_exclude": [
    "module",
    "function",
    "builtin_function_or_method",
    "instance",
    "_Feature"
   ],
   "window_display": false
  }
 },
 "nbformat": 4,
 "nbformat_minor": 2
}
